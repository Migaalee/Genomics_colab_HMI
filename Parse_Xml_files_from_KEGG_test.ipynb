{
  "nbformat": 4,
  "nbformat_minor": 0,
  "metadata": {
    "colab": {
      "provenance": [],
      "authorship_tag": "ABX9TyO6CIHX0LD4PyQqbfHKezxV",
      "include_colab_link": true
    },
    "kernelspec": {
      "name": "python3",
      "display_name": "Python 3"
    },
    "language_info": {
      "name": "python"
    }
  },
  "cells": [
    {
      "cell_type": "markdown",
      "metadata": {
        "id": "view-in-github",
        "colab_type": "text"
      },
      "source": [
        "<a href=\"https://colab.research.google.com/github/Migaalee/Genomics_colab_HMI/blob/main/Parse_Xml_files_from_KEGG_test.ipynb\" target=\"_parent\"><img src=\"https://colab.research.google.com/assets/colab-badge.svg\" alt=\"Open In Colab\"/></a>"
      ]
    },
    {
      "cell_type": "code",
      "execution_count": 39,
      "metadata": {
        "id": "9KOYlocGYKI8"
      },
      "outputs": [],
      "source": [
        "# For general data science and matrix manipulation\n",
        "import numpy as np\n",
        "import pandas as pd\n",
        "from sklearn.preprocessing import StandardScaler\n",
        "from sklearn.decomposition import PCA\n",
        "from scipy import stats\n",
        "import csv\n",
        "\n",
        "# For pathway analysis in python\n",
        "#import sspa\n",
        "#import gseapy\n",
        "\n",
        "# For plotting\n",
        "import seaborn as sns\n",
        "import matplotlib.pyplot as plt\n",
        "import plotly.express as px\n",
        "import plotly.graph_objects as go\n",
        "\n",
        "# For network creation and visualisation\n",
        "import networkx as nx\n",
        "\n",
        "#For regex\n",
        "import re\n",
        "import random\n",
        "\n",
        "from google.colab import files\n",
        "import zipfile\n",
        "\n",
        "import shutil\n",
        "\n",
        "import os\n",
        "import sys\n",
        "sys.path\n",
        "\n",
        "\n",
        "import xml.etree.ElementTree as ET #Parse and read XML data\n",
        "import tarfile #read from tarfile instead of extracting all data\n",
        "import xml.etree.ElementTree as ET\n",
        "from collections import Counter\n",
        "\n",
        "import pprint as pp\n",
        "import pickle\n",
        "import site\n",
        "site.getsitepackages()\n",
        "from collections import defaultdict #I'm importing this library so we have a code with less lists!!"
      ]
    },
    {
      "cell_type": "code",
      "source": [
        "uploaded = files.upload()"
      ],
      "metadata": {
        "colab": {
          "base_uri": "https://localhost:8080/",
          "height": 73
        },
        "id": "ie2_N8ucZyx8",
        "outputId": "26b8e221-a2e1-4069-9264-a18d0069953b"
      },
      "execution_count": 15,
      "outputs": [
        {
          "output_type": "display_data",
          "data": {
            "text/plain": [
              "<IPython.core.display.HTML object>"
            ],
            "text/html": [
              "\n",
              "     <input type=\"file\" id=\"files-8d20cdeb-71d0-495c-87eb-21fc702d42b4\" name=\"files[]\" multiple disabled\n",
              "        style=\"border:none\" />\n",
              "     <output id=\"result-8d20cdeb-71d0-495c-87eb-21fc702d42b4\">\n",
              "      Upload widget is only available when the cell has been executed in the\n",
              "      current browser session. Please rerun this cell to enable.\n",
              "      </output>\n",
              "      <script>// Copyright 2017 Google LLC\n",
              "//\n",
              "// Licensed under the Apache License, Version 2.0 (the \"License\");\n",
              "// you may not use this file except in compliance with the License.\n",
              "// You may obtain a copy of the License at\n",
              "//\n",
              "//      http://www.apache.org/licenses/LICENSE-2.0\n",
              "//\n",
              "// Unless required by applicable law or agreed to in writing, software\n",
              "// distributed under the License is distributed on an \"AS IS\" BASIS,\n",
              "// WITHOUT WARRANTIES OR CONDITIONS OF ANY KIND, either express or implied.\n",
              "// See the License for the specific language governing permissions and\n",
              "// limitations under the License.\n",
              "\n",
              "/**\n",
              " * @fileoverview Helpers for google.colab Python module.\n",
              " */\n",
              "(function(scope) {\n",
              "function span(text, styleAttributes = {}) {\n",
              "  const element = document.createElement('span');\n",
              "  element.textContent = text;\n",
              "  for (const key of Object.keys(styleAttributes)) {\n",
              "    element.style[key] = styleAttributes[key];\n",
              "  }\n",
              "  return element;\n",
              "}\n",
              "\n",
              "// Max number of bytes which will be uploaded at a time.\n",
              "const MAX_PAYLOAD_SIZE = 100 * 1024;\n",
              "\n",
              "function _uploadFiles(inputId, outputId) {\n",
              "  const steps = uploadFilesStep(inputId, outputId);\n",
              "  const outputElement = document.getElementById(outputId);\n",
              "  // Cache steps on the outputElement to make it available for the next call\n",
              "  // to uploadFilesContinue from Python.\n",
              "  outputElement.steps = steps;\n",
              "\n",
              "  return _uploadFilesContinue(outputId);\n",
              "}\n",
              "\n",
              "// This is roughly an async generator (not supported in the browser yet),\n",
              "// where there are multiple asynchronous steps and the Python side is going\n",
              "// to poll for completion of each step.\n",
              "// This uses a Promise to block the python side on completion of each step,\n",
              "// then passes the result of the previous step as the input to the next step.\n",
              "function _uploadFilesContinue(outputId) {\n",
              "  const outputElement = document.getElementById(outputId);\n",
              "  const steps = outputElement.steps;\n",
              "\n",
              "  const next = steps.next(outputElement.lastPromiseValue);\n",
              "  return Promise.resolve(next.value.promise).then((value) => {\n",
              "    // Cache the last promise value to make it available to the next\n",
              "    // step of the generator.\n",
              "    outputElement.lastPromiseValue = value;\n",
              "    return next.value.response;\n",
              "  });\n",
              "}\n",
              "\n",
              "/**\n",
              " * Generator function which is called between each async step of the upload\n",
              " * process.\n",
              " * @param {string} inputId Element ID of the input file picker element.\n",
              " * @param {string} outputId Element ID of the output display.\n",
              " * @return {!Iterable<!Object>} Iterable of next steps.\n",
              " */\n",
              "function* uploadFilesStep(inputId, outputId) {\n",
              "  const inputElement = document.getElementById(inputId);\n",
              "  inputElement.disabled = false;\n",
              "\n",
              "  const outputElement = document.getElementById(outputId);\n",
              "  outputElement.innerHTML = '';\n",
              "\n",
              "  const pickedPromise = new Promise((resolve) => {\n",
              "    inputElement.addEventListener('change', (e) => {\n",
              "      resolve(e.target.files);\n",
              "    });\n",
              "  });\n",
              "\n",
              "  const cancel = document.createElement('button');\n",
              "  inputElement.parentElement.appendChild(cancel);\n",
              "  cancel.textContent = 'Cancel upload';\n",
              "  const cancelPromise = new Promise((resolve) => {\n",
              "    cancel.onclick = () => {\n",
              "      resolve(null);\n",
              "    };\n",
              "  });\n",
              "\n",
              "  // Wait for the user to pick the files.\n",
              "  const files = yield {\n",
              "    promise: Promise.race([pickedPromise, cancelPromise]),\n",
              "    response: {\n",
              "      action: 'starting',\n",
              "    }\n",
              "  };\n",
              "\n",
              "  cancel.remove();\n",
              "\n",
              "  // Disable the input element since further picks are not allowed.\n",
              "  inputElement.disabled = true;\n",
              "\n",
              "  if (!files) {\n",
              "    return {\n",
              "      response: {\n",
              "        action: 'complete',\n",
              "      }\n",
              "    };\n",
              "  }\n",
              "\n",
              "  for (const file of files) {\n",
              "    const li = document.createElement('li');\n",
              "    li.append(span(file.name, {fontWeight: 'bold'}));\n",
              "    li.append(span(\n",
              "        `(${file.type || 'n/a'}) - ${file.size} bytes, ` +\n",
              "        `last modified: ${\n",
              "            file.lastModifiedDate ? file.lastModifiedDate.toLocaleDateString() :\n",
              "                                    'n/a'} - `));\n",
              "    const percent = span('0% done');\n",
              "    li.appendChild(percent);\n",
              "\n",
              "    outputElement.appendChild(li);\n",
              "\n",
              "    const fileDataPromise = new Promise((resolve) => {\n",
              "      const reader = new FileReader();\n",
              "      reader.onload = (e) => {\n",
              "        resolve(e.target.result);\n",
              "      };\n",
              "      reader.readAsArrayBuffer(file);\n",
              "    });\n",
              "    // Wait for the data to be ready.\n",
              "    let fileData = yield {\n",
              "      promise: fileDataPromise,\n",
              "      response: {\n",
              "        action: 'continue',\n",
              "      }\n",
              "    };\n",
              "\n",
              "    // Use a chunked sending to avoid message size limits. See b/62115660.\n",
              "    let position = 0;\n",
              "    do {\n",
              "      const length = Math.min(fileData.byteLength - position, MAX_PAYLOAD_SIZE);\n",
              "      const chunk = new Uint8Array(fileData, position, length);\n",
              "      position += length;\n",
              "\n",
              "      const base64 = btoa(String.fromCharCode.apply(null, chunk));\n",
              "      yield {\n",
              "        response: {\n",
              "          action: 'append',\n",
              "          file: file.name,\n",
              "          data: base64,\n",
              "        },\n",
              "      };\n",
              "\n",
              "      let percentDone = fileData.byteLength === 0 ?\n",
              "          100 :\n",
              "          Math.round((position / fileData.byteLength) * 100);\n",
              "      percent.textContent = `${percentDone}% done`;\n",
              "\n",
              "    } while (position < fileData.byteLength);\n",
              "  }\n",
              "\n",
              "  // All done.\n",
              "  yield {\n",
              "    response: {\n",
              "      action: 'complete',\n",
              "    }\n",
              "  };\n",
              "}\n",
              "\n",
              "scope.google = scope.google || {};\n",
              "scope.google.colab = scope.google.colab || {};\n",
              "scope.google.colab._files = {\n",
              "  _uploadFiles,\n",
              "  _uploadFilesContinue,\n",
              "};\n",
              "})(self);\n",
              "</script> "
            ]
          },
          "metadata": {}
        },
        {
          "output_type": "stream",
          "name": "stdout",
          "text": [
            "Saving KEGG.zip to KEGG (2).zip\n"
          ]
        }
      ]
    },
    {
      "cell_type": "code",
      "source": [
        "#zip_file_name = list(uploaded.keys())[0]\n",
        "zip_file_name = next(iter(uploaded))\n"
      ],
      "metadata": {
        "id": "9hvkaP3ZT-w_"
      },
      "execution_count": 17,
      "outputs": []
    },
    {
      "cell_type": "code",
      "source": [
        "extract_to = 'unzipped_files'\n",
        "if not os.path.exists(extract_to):\n",
        "    os.makedirs(extract_to)"
      ],
      "metadata": {
        "id": "LfwGSRwYUFrJ"
      },
      "execution_count": 18,
      "outputs": []
    },
    {
      "cell_type": "code",
      "source": [
        "with zipfile.ZipFile(zip_file_name, 'r') as zip_ref:\n",
        "    zip_ref.extractall(extract_to)"
      ],
      "metadata": {
        "id": "GqXAqkcGUSld"
      },
      "execution_count": 19,
      "outputs": []
    },
    {
      "cell_type": "code",
      "source": [
        "csv_path = 'csv_files'\n",
        "if not os.path.exists(csv_path):\n",
        "    os.makedirs(csv_path)"
      ],
      "metadata": {
        "id": "MK6aLozjU6jU"
      },
      "execution_count": 20,
      "outputs": []
    },
    {
      "cell_type": "code",
      "source": [
        "tree = ET.parse('dme01100.xml')\n",
        "root = tree.getroot()"
      ],
      "metadata": {
        "id": "9wnAh1qkYcMh"
      },
      "execution_count": null,
      "outputs": []
    },
    {
      "cell_type": "code",
      "source": [
        "for xml_file in os.listdir(extract_to):\n",
        "    if xml_file.endswith('.xml'):\n",
        "        # Parse the XML file\n",
        "        tree = ET.parse(os.path.join(extract_to, xml_file))\n",
        "        root = tree.getroot()\n",
        "\n",
        "        # Extract specific data\n",
        "        cpd_entries = []\n",
        "        for entry in root.findall('entry'):\n",
        "            name = entry.attrib.get('name', '')\n",
        "            if name.startswith('cpd:'):\n",
        "                entry_details = {\n",
        "                    'id': entry.attrib.get('id'),\n",
        "                    'name': name,\n",
        "                    'type': entry.attrib.get('type'),\n",
        "                    'link': entry.attrib.get('link'),\n",
        "                }\n",
        "                cpd_entries.append(entry_details)\n",
        "\n",
        "        # Define the CSV file name based on the XML file name\n",
        "        csv_file_name = os.path.splitext(xml_file)[0] + '.csv'\n",
        "        # The path where the CSV file will be saved\n",
        "        csv_path = os.path.join(extract_to, csv_file_name)\n",
        "\n",
        "        # Export the data to a CSV file\n",
        "        with open(csv_path, 'w', newline='', encoding='utf-8') as csv_file:\n",
        "            fieldnames = ['id', 'name', 'type', 'link']\n",
        "            writer = csv.DictWriter(csv_file, fieldnames=fieldnames, delimiter=';')\n",
        "            writer.writeheader()\n",
        "            for entry in cpd_entries:\n",
        "                writer.writerow(entry)\n",
        "\n",
        "        print(f\"Processed {xml_file} to {csv_file_name}\")"
      ],
      "metadata": {
        "id": "4r8R1SieUaEW",
        "colab": {
          "base_uri": "https://localhost:8080/"
        },
        "outputId": "0eafee47-5abc-4feb-e2d8-9278e2892c11"
      },
      "execution_count": 41,
      "outputs": [
        {
          "output_type": "stream",
          "name": "stdout",
          "text": [
            "Processed Galactose metabolism.xml to Galactose metabolism.csv\n",
            "Processed Glycosphingolipid biosynthesis.xml to Glycosphingolipid biosynthesis.csv\n",
            "Processed Sulfur metabolism.xml to Sulfur metabolism.csv\n",
            "Processed Inositol phosphate metabolism.xml to Inositol phosphate metabolism.csv\n",
            "Processed Mucin type O-glycan biosynthesis.xml to Mucin type O-glycan biosynthesis.csv\n",
            "Processed Glycine, serine and threonine metabolism.xml to Glycine, serine and threonine metabolism.csv\n",
            "Processed Ether lipid metabolism.xml to Ether lipid metabolism.csv\n",
            "Processed Tryptophan metabolism.xml to Tryptophan metabolism.csv\n",
            "Processed Phenylalanine, tyrosine and tryptophan biosynthesis.xml to Phenylalanine, tyrosine and tryptophan biosynthesis.csv\n",
            "Processed Cysteine and methionine metabolism.xml to Cysteine and methionine metabolism.csv\n",
            "Processed Selenocompound metabolism.xml to Selenocompound metabolism.csv\n",
            "Processed Drug metabolism - cytochrome P450.xml to Drug metabolism - cytochrome P450.csv\n",
            "Processed Caffeine metabolism.xml to Caffeine metabolism.csv\n",
            "Processed Citrate cycle (TCA cycle).xml to Citrate cycle (TCA cycle).csv\n",
            "Processed Glycosaminoglycan degradation.xml to Glycosaminoglycan degradation.csv\n",
            "Processed Tyrosine metabolism.xml to Tyrosine metabolism.csv\n",
            "Processed Fructose and mannose metabolism.xml to Fructose and mannose metabolism.csv\n",
            "Processed Fatty Acid Degradation.xml to Fatty Acid Degradation.csv\n",
            "Processed Valine, leucine and isoleucine biosynthesis.xml to Valine, leucine and isoleucine biosynthesis.csv\n",
            "Processed 2-Oxocarboxylic acid metabolism.xml to 2-Oxocarboxylic acid metabolism.csv\n",
            "Processed Glycosaminoglycan biosynthesis - heparan sulfate  heparin.xml to Glycosaminoglycan biosynthesis - heparan sulfate  heparin.csv\n",
            "Processed Glycosaminoglycan biosynthesis - chondroitin sulfate  dermatan sulfate.xml to Glycosaminoglycan biosynthesis - chondroitin sulfate  dermatan sulfate.csv\n",
            "Processed Biosynthesis of amino acids.xml to Biosynthesis of amino acids.csv\n",
            "Processed Lipoic acid metabolism.xml to Lipoic acid metabolism.csv\n",
            "Processed Pyrimidine metabolism.xml to Pyrimidine metabolism.csv\n",
            "Processed Pyruvate metabolism.xml to Pyruvate metabolism.csv\n",
            "Processed Glycosylphosphatidylinositol (GPI)-anchor biosynthesis.xml to Glycosylphosphatidylinositol (GPI)-anchor biosynthesis.csv\n",
            "Processed Retinol metabolism.xml to Retinol metabolism.csv\n",
            "Processed Fatty Acid Elongation.xml to Fatty Acid Elongation.csv\n",
            "Processed Valine, leucine and isoleucine degradation.xml to Valine, leucine and isoleucine degradation.csv\n",
            "Processed Glutathione metabolism.xml to Glutathione metabolism.csv\n",
            "Processed Glycerolipid metabolism.xml to Glycerolipid metabolism.csv\n",
            "Processed Riboflavin metabolism.xml to Riboflavin metabolism.csv\n",
            "Processed Vitamin B6 metabolism.xml to Vitamin B6 metabolism.csv\n",
            "Processed Glycosphingolipid biosynthesis - lacto and neolacto series.xml to Glycosphingolipid biosynthesis - lacto and neolacto series.csv\n",
            "Processed Insect hormone biosynthesis.xml to Insect hormone biosynthesis.csv\n",
            "Processed Terpenoid backbone biosynthesis.xml to Terpenoid backbone biosynthesis.csv\n",
            "Processed Ubiquinone and other terpenoid-quinone biosynthesis.xml to Ubiquinone and other terpenoid-quinone biosynthesis.csv\n",
            "Processed Thiamine metabolism.xml to Thiamine metabolism.csv\n",
            "Processed Taurine and hypotaurine metabolism.xml to Taurine and hypotaurine metabolism.csv\n",
            "Processed Phenylalanine metabolism - copia.xml to Phenylalanine metabolism - copia.csv\n",
            "Processed Phenylalanine metabolism.xml to Phenylalanine metabolism.csv\n",
            "Processed Aminoacyl-tRNA biosynthesis.xml to Aminoacyl-tRNA biosynthesis.csv\n",
            "Processed Steroid biosynthesis.xml to Steroid biosynthesis.csv\n",
            "Processed Glycerophospholipid metabolism.xml to Glycerophospholipid metabolism.csv\n",
            "Processed Glycolysis  Gluconeogenesis.xml to Glycolysis  Gluconeogenesis.csv\n",
            "Processed Glycosphingolipid biosynthesis - globo and isoglobo series.xml to Glycosphingolipid biosynthesis - globo and isoglobo series.csv\n",
            "Processed Pure Metabolism.xml to Pure Metabolism.csv\n",
            "Processed Histidine metabolism.xml to Histidine metabolism.csv\n",
            "Processed Biotin metabolism.xml to Biotin metabolism.csv\n",
            "Processed Arginine and proline metabolism.xml to Arginine and proline metabolism.csv\n",
            "Processed Lysine degradation.xml to Lysine degradation.csv\n",
            "Processed Propanoate metabolism.xml to Propanoate metabolism.csv\n",
            "Processed Starch and sucrose metabolism.xml to Starch and sucrose metabolism.csv\n",
            "Processed Metabolism of xenobiotics by cytochrome P450.xml to Metabolism of xenobiotics by cytochrome P450.csv\n",
            "Processed Pantothenate and CoA biosynthesis.xml to Pantothenate and CoA biosynthesis.csv\n",
            "Processed One carbon pool by folate.xml to One carbon pool by folate.csv\n",
            "Processed Pentose and glucuronate interconversions.xml to Pentose and glucuronate interconversions.csv\n",
            "Processed Drug metabolism - other enzymes.xml to Drug metabolism - other enzymes.csv\n",
            "Processed Porphyrin metabolism.xml to Porphyrin metabolism.csv\n",
            "Processed N-Glycan biosynthesis.xml to N-Glycan biosynthesis.csv\n",
            "Processed Glyoxylate and dicarboxylate metabolism.xml to Glyoxylate and dicarboxylate metabolism.csv\n",
            "Processed Sphingolipid metabolism.xml to Sphingolipid metabolism.csv\n",
            "Processed beta-Alanine metabolism.xml to beta-Alanine metabolism.csv\n",
            "Processed Nicotinate and nicotinamide metabolism.xml to Nicotinate and nicotinamide metabolism.csv\n",
            "Processed Pentose phosphate pathway.xml to Pentose phosphate pathway.csv\n",
            "Processed Arachidonic acid metabolism.xml to Arachidonic acid metabolism.csv\n",
            "Processed alpha-Linolenic acid metabolism.xml to alpha-Linolenic acid metabolism.csv\n",
            "Processed Butanoate metabolism.xml to Butanoate metabolism.csv\n",
            "Processed Folate biosynthesis.xml to Folate biosynthesis.csv\n",
            "Processed Alanine, aspartate and glutamate metabolism.xml to Alanine, aspartate and glutamate metabolism.csv\n"
          ]
        }
      ]
    },
    {
      "cell_type": "markdown",
      "source": [
        "Only compound names extract"
      ],
      "metadata": {
        "id": "vhnpNpEicHLg"
      }
    },
    {
      "cell_type": "code",
      "source": [
        "for xml_file in os.listdir(extract_to):\n",
        "    if xml_file.endswith('.xml'):\n",
        "        # Parse the XML file\n",
        "        tree = ET.parse(os.path.join(extract_to, xml_file))\n",
        "        root = tree.getroot()\n",
        "\n",
        "        # Extract specific data\n",
        "        cpd_names = []  # We'll only store the modified names here\n",
        "        for entry in root.findall('.//entry'):  # Ensure we search all 'entry' elements, regardless of nesting\n",
        "            name = entry.attrib.get('name', '')\n",
        "            if name.startswith('cpd:'):\n",
        "                modified_name = name.split(\"cpd:\")[1]  # Keep only the part after 'cpd:'\n",
        "                cpd_names.append([modified_name])  # Append as a list to match the writerows format later\n",
        "\n",
        "        # Define the CSV file name based on the XML file name\n",
        "        csv_file_name = os.path.splitext(xml_file)[0] + '.csv'\n",
        "        # The path where the CSV file will be saved\n",
        "        csv_path = os.path.join(extract_to, csv_file_name)\n",
        "\n",
        "        # Export the data to a CSV file\n",
        "        with open(csv_path, 'w', newline='', encoding='utf-8') as csv_file:\n",
        "            # The column header will be the XML file name without the extension\n",
        "            writer = csv.writer(csv_file, delimiter=';')\n",
        "            writer.writerow([os.path.splitext(xml_file)[0]])  # Write the header as the file name\n",
        "            writer.writerows(cpd_names)  # Write the rows of modified names\n",
        "\n",
        "        print(f\"Processed {xml_file} to {csv_file_name}\")"
      ],
      "metadata": {
        "id": "EkWuV9F3jq-i",
        "colab": {
          "base_uri": "https://localhost:8080/"
        },
        "outputId": "c22db0aa-072d-4e9d-d8ac-9c1bb980615d"
      },
      "execution_count": 46,
      "outputs": [
        {
          "output_type": "stream",
          "name": "stdout",
          "text": [
            "Processed Galactose metabolism.xml to Galactose metabolism.csv\n",
            "Processed Glycosphingolipid biosynthesis.xml to Glycosphingolipid biosynthesis.csv\n",
            "Processed Sulfur metabolism.xml to Sulfur metabolism.csv\n",
            "Processed Inositol phosphate metabolism.xml to Inositol phosphate metabolism.csv\n",
            "Processed Mucin type O-glycan biosynthesis.xml to Mucin type O-glycan biosynthesis.csv\n",
            "Processed Glycine, serine and threonine metabolism.xml to Glycine, serine and threonine metabolism.csv\n",
            "Processed Ether lipid metabolism.xml to Ether lipid metabolism.csv\n",
            "Processed Tryptophan metabolism.xml to Tryptophan metabolism.csv\n",
            "Processed Phenylalanine, tyrosine and tryptophan biosynthesis.xml to Phenylalanine, tyrosine and tryptophan biosynthesis.csv\n",
            "Processed Cysteine and methionine metabolism.xml to Cysteine and methionine metabolism.csv\n",
            "Processed Selenocompound metabolism.xml to Selenocompound metabolism.csv\n",
            "Processed Drug metabolism - cytochrome P450.xml to Drug metabolism - cytochrome P450.csv\n",
            "Processed Caffeine metabolism.xml to Caffeine metabolism.csv\n",
            "Processed Citrate cycle (TCA cycle).xml to Citrate cycle (TCA cycle).csv\n",
            "Processed Glycosaminoglycan degradation.xml to Glycosaminoglycan degradation.csv\n",
            "Processed Tyrosine metabolism.xml to Tyrosine metabolism.csv\n",
            "Processed Fructose and mannose metabolism.xml to Fructose and mannose metabolism.csv\n",
            "Processed Fatty Acid Degradation.xml to Fatty Acid Degradation.csv\n",
            "Processed Valine, leucine and isoleucine biosynthesis.xml to Valine, leucine and isoleucine biosynthesis.csv\n",
            "Processed 2-Oxocarboxylic acid metabolism.xml to 2-Oxocarboxylic acid metabolism.csv\n",
            "Processed Glycosaminoglycan biosynthesis - heparan sulfate  heparin.xml to Glycosaminoglycan biosynthesis - heparan sulfate  heparin.csv\n",
            "Processed Glycosaminoglycan biosynthesis - chondroitin sulfate  dermatan sulfate.xml to Glycosaminoglycan biosynthesis - chondroitin sulfate  dermatan sulfate.csv\n",
            "Processed Biosynthesis of amino acids.xml to Biosynthesis of amino acids.csv\n",
            "Processed Lipoic acid metabolism.xml to Lipoic acid metabolism.csv\n",
            "Processed Pyrimidine metabolism.xml to Pyrimidine metabolism.csv\n",
            "Processed Pyruvate metabolism.xml to Pyruvate metabolism.csv\n",
            "Processed Glycosylphosphatidylinositol (GPI)-anchor biosynthesis.xml to Glycosylphosphatidylinositol (GPI)-anchor biosynthesis.csv\n",
            "Processed Retinol metabolism.xml to Retinol metabolism.csv\n",
            "Processed Fatty Acid Elongation.xml to Fatty Acid Elongation.csv\n",
            "Processed Valine, leucine and isoleucine degradation.xml to Valine, leucine and isoleucine degradation.csv\n",
            "Processed Glutathione metabolism.xml to Glutathione metabolism.csv\n",
            "Processed Glycerolipid metabolism.xml to Glycerolipid metabolism.csv\n",
            "Processed Riboflavin metabolism.xml to Riboflavin metabolism.csv\n",
            "Processed Vitamin B6 metabolism.xml to Vitamin B6 metabolism.csv\n",
            "Processed Glycosphingolipid biosynthesis - lacto and neolacto series.xml to Glycosphingolipid biosynthesis - lacto and neolacto series.csv\n",
            "Processed Insect hormone biosynthesis.xml to Insect hormone biosynthesis.csv\n",
            "Processed Terpenoid backbone biosynthesis.xml to Terpenoid backbone biosynthesis.csv\n",
            "Processed Ubiquinone and other terpenoid-quinone biosynthesis.xml to Ubiquinone and other terpenoid-quinone biosynthesis.csv\n",
            "Processed Thiamine metabolism.xml to Thiamine metabolism.csv\n",
            "Processed Taurine and hypotaurine metabolism.xml to Taurine and hypotaurine metabolism.csv\n",
            "Processed Phenylalanine metabolism - copia.xml to Phenylalanine metabolism - copia.csv\n",
            "Processed Phenylalanine metabolism.xml to Phenylalanine metabolism.csv\n",
            "Processed Aminoacyl-tRNA biosynthesis.xml to Aminoacyl-tRNA biosynthesis.csv\n",
            "Processed Steroid biosynthesis.xml to Steroid biosynthesis.csv\n",
            "Processed Glycerophospholipid metabolism.xml to Glycerophospholipid metabolism.csv\n",
            "Processed Glycolysis  Gluconeogenesis.xml to Glycolysis  Gluconeogenesis.csv\n",
            "Processed Glycosphingolipid biosynthesis - globo and isoglobo series.xml to Glycosphingolipid biosynthesis - globo and isoglobo series.csv\n",
            "Processed Pure Metabolism.xml to Pure Metabolism.csv\n",
            "Processed Histidine metabolism.xml to Histidine metabolism.csv\n",
            "Processed Biotin metabolism.xml to Biotin metabolism.csv\n",
            "Processed Arginine and proline metabolism.xml to Arginine and proline metabolism.csv\n",
            "Processed Lysine degradation.xml to Lysine degradation.csv\n",
            "Processed Propanoate metabolism.xml to Propanoate metabolism.csv\n",
            "Processed Starch and sucrose metabolism.xml to Starch and sucrose metabolism.csv\n",
            "Processed Metabolism of xenobiotics by cytochrome P450.xml to Metabolism of xenobiotics by cytochrome P450.csv\n",
            "Processed Pantothenate and CoA biosynthesis.xml to Pantothenate and CoA biosynthesis.csv\n",
            "Processed One carbon pool by folate.xml to One carbon pool by folate.csv\n",
            "Processed Pentose and glucuronate interconversions.xml to Pentose and glucuronate interconversions.csv\n",
            "Processed Drug metabolism - other enzymes.xml to Drug metabolism - other enzymes.csv\n",
            "Processed Porphyrin metabolism.xml to Porphyrin metabolism.csv\n",
            "Processed N-Glycan biosynthesis.xml to N-Glycan biosynthesis.csv\n",
            "Processed Glyoxylate and dicarboxylate metabolism.xml to Glyoxylate and dicarboxylate metabolism.csv\n",
            "Processed Sphingolipid metabolism.xml to Sphingolipid metabolism.csv\n",
            "Processed beta-Alanine metabolism.xml to beta-Alanine metabolism.csv\n",
            "Processed Nicotinate and nicotinamide metabolism.xml to Nicotinate and nicotinamide metabolism.csv\n",
            "Processed Pentose phosphate pathway.xml to Pentose phosphate pathway.csv\n",
            "Processed Arachidonic acid metabolism.xml to Arachidonic acid metabolism.csv\n",
            "Processed alpha-Linolenic acid metabolism.xml to alpha-Linolenic acid metabolism.csv\n",
            "Processed Butanoate metabolism.xml to Butanoate metabolism.csv\n",
            "Processed Folate biosynthesis.xml to Folate biosynthesis.csv\n",
            "Processed Alanine, aspartate and glutamate metabolism.xml to Alanine, aspartate and glutamate metabolism.csv\n"
          ]
        }
      ]
    },
    {
      "cell_type": "markdown",
      "source": [],
      "metadata": {
        "id": "n2giLBooZjH0"
      }
    },
    {
      "cell_type": "code",
      "source": [
        "directory_path = '/content/unzipped_files'\n"
      ],
      "metadata": {
        "id": "qgo6OILwZ4Op"
      },
      "execution_count": 47,
      "outputs": []
    },
    {
      "cell_type": "code",
      "source": [
        "zipfile_name = '/content/unzipped_files.zip'\n"
      ],
      "metadata": {
        "id": "0BAz7M-rZ49m"
      },
      "execution_count": 48,
      "outputs": []
    },
    {
      "cell_type": "markdown",
      "source": [
        "compress folder to download"
      ],
      "metadata": {
        "id": "LvCFWQd0aAXw"
      }
    },
    {
      "cell_type": "code",
      "source": [
        "shutil.make_archive(zipfile_name[:-4], 'zip', directory_path)\n"
      ],
      "metadata": {
        "colab": {
          "base_uri": "https://localhost:8080/",
          "height": 36
        },
        "id": "0woOa72NZ8Zl",
        "outputId": "0da06637-da75-4fc1-9299-d1241fec9bdf"
      },
      "execution_count": 49,
      "outputs": [
        {
          "output_type": "execute_result",
          "data": {
            "text/plain": [
              "'/content/unzipped_files.zip'"
            ],
            "application/vnd.google.colaboratory.intrinsic+json": {
              "type": "string"
            }
          },
          "metadata": {},
          "execution_count": 49
        }
      ]
    },
    {
      "cell_type": "code",
      "source": [
        "files.download(zipfile_name)\n"
      ],
      "metadata": {
        "colab": {
          "base_uri": "https://localhost:8080/",
          "height": 17
        },
        "id": "dVGa6yf-aEYy",
        "outputId": "18a78469-9dae-481c-c1c5-d8a935fd0a36"
      },
      "execution_count": 50,
      "outputs": [
        {
          "output_type": "display_data",
          "data": {
            "text/plain": [
              "<IPython.core.display.Javascript object>"
            ],
            "application/javascript": [
              "\n",
              "    async function download(id, filename, size) {\n",
              "      if (!google.colab.kernel.accessAllowed) {\n",
              "        return;\n",
              "      }\n",
              "      const div = document.createElement('div');\n",
              "      const label = document.createElement('label');\n",
              "      label.textContent = `Downloading \"${filename}\": `;\n",
              "      div.appendChild(label);\n",
              "      const progress = document.createElement('progress');\n",
              "      progress.max = size;\n",
              "      div.appendChild(progress);\n",
              "      document.body.appendChild(div);\n",
              "\n",
              "      const buffers = [];\n",
              "      let downloaded = 0;\n",
              "\n",
              "      const channel = await google.colab.kernel.comms.open(id);\n",
              "      // Send a message to notify the kernel that we're ready.\n",
              "      channel.send({})\n",
              "\n",
              "      for await (const message of channel.messages) {\n",
              "        // Send a message to notify the kernel that we're ready.\n",
              "        channel.send({})\n",
              "        if (message.buffers) {\n",
              "          for (const buffer of message.buffers) {\n",
              "            buffers.push(buffer);\n",
              "            downloaded += buffer.byteLength;\n",
              "            progress.value = downloaded;\n",
              "          }\n",
              "        }\n",
              "      }\n",
              "      const blob = new Blob(buffers, {type: 'application/binary'});\n",
              "      const a = document.createElement('a');\n",
              "      a.href = window.URL.createObjectURL(blob);\n",
              "      a.download = filename;\n",
              "      div.appendChild(a);\n",
              "      a.click();\n",
              "      div.remove();\n",
              "    }\n",
              "  "
            ]
          },
          "metadata": {}
        },
        {
          "output_type": "display_data",
          "data": {
            "text/plain": [
              "<IPython.core.display.Javascript object>"
            ],
            "application/javascript": [
              "download(\"download_a3fa15dd-29f7-4e21-a870-27e674a807f3\", \"unzipped_files.zip\", 324965)"
            ]
          },
          "metadata": {}
        }
      ]
    },
    {
      "cell_type": "code",
      "source": [],
      "metadata": {
        "id": "PI1EXZk0Z_yD"
      },
      "execution_count": null,
      "outputs": []
    },
    {
      "cell_type": "code",
      "source": [
        "/content/unzipped_files"
      ],
      "metadata": {
        "id": "zn9bdPygZjrh"
      },
      "execution_count": null,
      "outputs": []
    },
    {
      "cell_type": "code",
      "source": [
        "extract_to = 'unzipped_files/KEGG'  # The directory where your XML files are located\n",
        "xml_file_name = '2-Oxocarboxylic acid metabolism.xml'  # The name of the XML file you want to process\n",
        "xml_file_path = os.path.join(extract_to, xml_file_name)  # Construct the full path\n"
      ],
      "metadata": {
        "id": "PPHHGr2pW2dq"
      },
      "execution_count": 27,
      "outputs": []
    },
    {
      "cell_type": "code",
      "source": [
        "extract = process_xml_file(xml_file_path)\n"
      ],
      "metadata": {
        "id": "mTtyVuNmX1yz"
      },
      "execution_count": 28,
      "outputs": []
    },
    {
      "cell_type": "code",
      "source": [
        "#for elem in root:\n",
        "    #print(f\"ID: {elem.attrib['id']}, Name: {elem.attrib['name']}, Type: {elem.attrib['type']}\")"
      ],
      "metadata": {
        "id": "Ihh2D073l3VG"
      },
      "execution_count": null,
      "outputs": []
    },
    {
      "cell_type": "code",
      "source": [],
      "metadata": {
        "id": "M0v8BPPvmRG3"
      },
      "execution_count": null,
      "outputs": []
    },
    {
      "cell_type": "code",
      "source": [
        "#for elem in root:\n",
        "    #print(elem.tag, elem.attrib)"
      ],
      "metadata": {
        "id": "UPGUYQazaCX8"
      },
      "execution_count": null,
      "outputs": []
    },
    {
      "cell_type": "code",
      "source": [
        "cpd_entries = []\n",
        "for entry in root.findall('entry'):\n",
        "    name = entry.attrib.get('name', '')  # get name attribute\n",
        "    if name.startswith('cpd:'):  # if name starts with \"cpd:\"\n",
        "        entry_details = {\n",
        "            'id': entry.attrib['id'],\n",
        "            'name': name,\n",
        "            'type': entry.attrib['type'],\n",
        "            'link': entry.attrib['link'],\n",
        "        }\n",
        "        cpd_entries.append(entry_details)"
      ],
      "metadata": {
        "id": "Y1yGwC3nnbsp"
      },
      "execution_count": null,
      "outputs": []
    },
    {
      "cell_type": "code",
      "source": [
        "#cpd_entries"
      ],
      "metadata": {
        "id": "6CEoK-UqneEe"
      },
      "execution_count": null,
      "outputs": []
    },
    {
      "cell_type": "code",
      "source": [
        "df = pd.DataFrame(cpd_entries)\n"
      ],
      "metadata": {
        "id": "45UruMLknu80"
      },
      "execution_count": null,
      "outputs": []
    },
    {
      "cell_type": "code",
      "source": [
        "df"
      ],
      "metadata": {
        "colab": {
          "base_uri": "https://localhost:8080/",
          "height": 441
        },
        "id": "nO-qqRMqny58",
        "outputId": "a40a7d5c-77c7-4b2d-dfb8-64a9d92a0a2d"
      },
      "execution_count": null,
      "outputs": [
        {
          "output_type": "execute_result",
          "data": {
            "text/plain": [
              "        id        name      type  \\\n",
              "0     7894  cpd:C22834  compound   \n",
              "1     7888  cpd:C03852  compound   \n",
              "2     7887  cpd:C18041  compound   \n",
              "3     7886  cpd:C18042  compound   \n",
              "4     7885  cpd:C22832  compound   \n",
              "...    ...         ...       ...   \n",
              "3144  7889  cpd:C03917  compound   \n",
              "3145  3643  cpd:C00606  compound   \n",
              "3146  4072  cpd:C05527  compound   \n",
              "3147  4323  cpd:C00053  compound   \n",
              "3148  5893  cpd:C00094  compound   \n",
              "\n",
              "                                               link  \n",
              "0     https://www.kegg.jp/dbget-bin/www_bget?C22834  \n",
              "1     https://www.kegg.jp/dbget-bin/www_bget?C03852  \n",
              "2     https://www.kegg.jp/dbget-bin/www_bget?C18041  \n",
              "3     https://www.kegg.jp/dbget-bin/www_bget?C18042  \n",
              "4     https://www.kegg.jp/dbget-bin/www_bget?C22832  \n",
              "...                                             ...  \n",
              "3144  https://www.kegg.jp/dbget-bin/www_bget?C03917  \n",
              "3145  https://www.kegg.jp/dbget-bin/www_bget?C00606  \n",
              "3146  https://www.kegg.jp/dbget-bin/www_bget?C05527  \n",
              "3147  https://www.kegg.jp/dbget-bin/www_bget?C00053  \n",
              "3148  https://www.kegg.jp/dbget-bin/www_bget?C00094  \n",
              "\n",
              "[3149 rows x 4 columns]"
            ],
            "text/html": [
              "\n",
              "  <div id=\"df-09b83c62-9861-41c0-a440-2212cd288bcb\" class=\"colab-df-container\">\n",
              "    <div>\n",
              "<style scoped>\n",
              "    .dataframe tbody tr th:only-of-type {\n",
              "        vertical-align: middle;\n",
              "    }\n",
              "\n",
              "    .dataframe tbody tr th {\n",
              "        vertical-align: top;\n",
              "    }\n",
              "\n",
              "    .dataframe thead th {\n",
              "        text-align: right;\n",
              "    }\n",
              "</style>\n",
              "<table border=\"1\" class=\"dataframe\">\n",
              "  <thead>\n",
              "    <tr style=\"text-align: right;\">\n",
              "      <th></th>\n",
              "      <th>id</th>\n",
              "      <th>name</th>\n",
              "      <th>type</th>\n",
              "      <th>link</th>\n",
              "    </tr>\n",
              "  </thead>\n",
              "  <tbody>\n",
              "    <tr>\n",
              "      <th>0</th>\n",
              "      <td>7894</td>\n",
              "      <td>cpd:C22834</td>\n",
              "      <td>compound</td>\n",
              "      <td>https://www.kegg.jp/dbget-bin/www_bget?C22834</td>\n",
              "    </tr>\n",
              "    <tr>\n",
              "      <th>1</th>\n",
              "      <td>7888</td>\n",
              "      <td>cpd:C03852</td>\n",
              "      <td>compound</td>\n",
              "      <td>https://www.kegg.jp/dbget-bin/www_bget?C03852</td>\n",
              "    </tr>\n",
              "    <tr>\n",
              "      <th>2</th>\n",
              "      <td>7887</td>\n",
              "      <td>cpd:C18041</td>\n",
              "      <td>compound</td>\n",
              "      <td>https://www.kegg.jp/dbget-bin/www_bget?C18041</td>\n",
              "    </tr>\n",
              "    <tr>\n",
              "      <th>3</th>\n",
              "      <td>7886</td>\n",
              "      <td>cpd:C18042</td>\n",
              "      <td>compound</td>\n",
              "      <td>https://www.kegg.jp/dbget-bin/www_bget?C18042</td>\n",
              "    </tr>\n",
              "    <tr>\n",
              "      <th>4</th>\n",
              "      <td>7885</td>\n",
              "      <td>cpd:C22832</td>\n",
              "      <td>compound</td>\n",
              "      <td>https://www.kegg.jp/dbget-bin/www_bget?C22832</td>\n",
              "    </tr>\n",
              "    <tr>\n",
              "      <th>...</th>\n",
              "      <td>...</td>\n",
              "      <td>...</td>\n",
              "      <td>...</td>\n",
              "      <td>...</td>\n",
              "    </tr>\n",
              "    <tr>\n",
              "      <th>3144</th>\n",
              "      <td>7889</td>\n",
              "      <td>cpd:C03917</td>\n",
              "      <td>compound</td>\n",
              "      <td>https://www.kegg.jp/dbget-bin/www_bget?C03917</td>\n",
              "    </tr>\n",
              "    <tr>\n",
              "      <th>3145</th>\n",
              "      <td>3643</td>\n",
              "      <td>cpd:C00606</td>\n",
              "      <td>compound</td>\n",
              "      <td>https://www.kegg.jp/dbget-bin/www_bget?C00606</td>\n",
              "    </tr>\n",
              "    <tr>\n",
              "      <th>3146</th>\n",
              "      <td>4072</td>\n",
              "      <td>cpd:C05527</td>\n",
              "      <td>compound</td>\n",
              "      <td>https://www.kegg.jp/dbget-bin/www_bget?C05527</td>\n",
              "    </tr>\n",
              "    <tr>\n",
              "      <th>3147</th>\n",
              "      <td>4323</td>\n",
              "      <td>cpd:C00053</td>\n",
              "      <td>compound</td>\n",
              "      <td>https://www.kegg.jp/dbget-bin/www_bget?C00053</td>\n",
              "    </tr>\n",
              "    <tr>\n",
              "      <th>3148</th>\n",
              "      <td>5893</td>\n",
              "      <td>cpd:C00094</td>\n",
              "      <td>compound</td>\n",
              "      <td>https://www.kegg.jp/dbget-bin/www_bget?C00094</td>\n",
              "    </tr>\n",
              "  </tbody>\n",
              "</table>\n",
              "<p>3149 rows × 4 columns</p>\n",
              "</div>\n",
              "    <div class=\"colab-df-buttons\">\n",
              "\n",
              "  <div class=\"colab-df-container\">\n",
              "    <button class=\"colab-df-convert\" onclick=\"convertToInteractive('df-09b83c62-9861-41c0-a440-2212cd288bcb')\"\n",
              "            title=\"Convert this dataframe to an interactive table.\"\n",
              "            style=\"display:none;\">\n",
              "\n",
              "  <svg xmlns=\"http://www.w3.org/2000/svg\" height=\"24px\" viewBox=\"0 -960 960 960\">\n",
              "    <path d=\"M120-120v-720h720v720H120Zm60-500h600v-160H180v160Zm220 220h160v-160H400v160Zm0 220h160v-160H400v160ZM180-400h160v-160H180v160Zm440 0h160v-160H620v160ZM180-180h160v-160H180v160Zm440 0h160v-160H620v160Z\"/>\n",
              "  </svg>\n",
              "    </button>\n",
              "\n",
              "  <style>\n",
              "    .colab-df-container {\n",
              "      display:flex;\n",
              "      gap: 12px;\n",
              "    }\n",
              "\n",
              "    .colab-df-convert {\n",
              "      background-color: #E8F0FE;\n",
              "      border: none;\n",
              "      border-radius: 50%;\n",
              "      cursor: pointer;\n",
              "      display: none;\n",
              "      fill: #1967D2;\n",
              "      height: 32px;\n",
              "      padding: 0 0 0 0;\n",
              "      width: 32px;\n",
              "    }\n",
              "\n",
              "    .colab-df-convert:hover {\n",
              "      background-color: #E2EBFA;\n",
              "      box-shadow: 0px 1px 2px rgba(60, 64, 67, 0.3), 0px 1px 3px 1px rgba(60, 64, 67, 0.15);\n",
              "      fill: #174EA6;\n",
              "    }\n",
              "\n",
              "    .colab-df-buttons div {\n",
              "      margin-bottom: 4px;\n",
              "    }\n",
              "\n",
              "    [theme=dark] .colab-df-convert {\n",
              "      background-color: #3B4455;\n",
              "      fill: #D2E3FC;\n",
              "    }\n",
              "\n",
              "    [theme=dark] .colab-df-convert:hover {\n",
              "      background-color: #434B5C;\n",
              "      box-shadow: 0px 1px 3px 1px rgba(0, 0, 0, 0.15);\n",
              "      filter: drop-shadow(0px 1px 2px rgba(0, 0, 0, 0.3));\n",
              "      fill: #FFFFFF;\n",
              "    }\n",
              "  </style>\n",
              "\n",
              "    <script>\n",
              "      const buttonEl =\n",
              "        document.querySelector('#df-09b83c62-9861-41c0-a440-2212cd288bcb button.colab-df-convert');\n",
              "      buttonEl.style.display =\n",
              "        google.colab.kernel.accessAllowed ? 'block' : 'none';\n",
              "\n",
              "      async function convertToInteractive(key) {\n",
              "        const element = document.querySelector('#df-09b83c62-9861-41c0-a440-2212cd288bcb');\n",
              "        const dataTable =\n",
              "          await google.colab.kernel.invokeFunction('convertToInteractive',\n",
              "                                                    [key], {});\n",
              "        if (!dataTable) return;\n",
              "\n",
              "        const docLinkHtml = 'Like what you see? Visit the ' +\n",
              "          '<a target=\"_blank\" href=https://colab.research.google.com/notebooks/data_table.ipynb>data table notebook</a>'\n",
              "          + ' to learn more about interactive tables.';\n",
              "        element.innerHTML = '';\n",
              "        dataTable['output_type'] = 'display_data';\n",
              "        await google.colab.output.renderOutput(dataTable, element);\n",
              "        const docLink = document.createElement('div');\n",
              "        docLink.innerHTML = docLinkHtml;\n",
              "        element.appendChild(docLink);\n",
              "      }\n",
              "    </script>\n",
              "  </div>\n",
              "\n",
              "\n",
              "<div id=\"df-4eacf6a9-d24d-4c02-a8de-8947d25b3923\">\n",
              "  <button class=\"colab-df-quickchart\" onclick=\"quickchart('df-4eacf6a9-d24d-4c02-a8de-8947d25b3923')\"\n",
              "            title=\"Suggest charts\"\n",
              "            style=\"display:none;\">\n",
              "\n",
              "<svg xmlns=\"http://www.w3.org/2000/svg\" height=\"24px\"viewBox=\"0 0 24 24\"\n",
              "     width=\"24px\">\n",
              "    <g>\n",
              "        <path d=\"M19 3H5c-1.1 0-2 .9-2 2v14c0 1.1.9 2 2 2h14c1.1 0 2-.9 2-2V5c0-1.1-.9-2-2-2zM9 17H7v-7h2v7zm4 0h-2V7h2v10zm4 0h-2v-4h2v4z\"/>\n",
              "    </g>\n",
              "</svg>\n",
              "  </button>\n",
              "\n",
              "<style>\n",
              "  .colab-df-quickchart {\n",
              "      --bg-color: #E8F0FE;\n",
              "      --fill-color: #1967D2;\n",
              "      --hover-bg-color: #E2EBFA;\n",
              "      --hover-fill-color: #174EA6;\n",
              "      --disabled-fill-color: #AAA;\n",
              "      --disabled-bg-color: #DDD;\n",
              "  }\n",
              "\n",
              "  [theme=dark] .colab-df-quickchart {\n",
              "      --bg-color: #3B4455;\n",
              "      --fill-color: #D2E3FC;\n",
              "      --hover-bg-color: #434B5C;\n",
              "      --hover-fill-color: #FFFFFF;\n",
              "      --disabled-bg-color: #3B4455;\n",
              "      --disabled-fill-color: #666;\n",
              "  }\n",
              "\n",
              "  .colab-df-quickchart {\n",
              "    background-color: var(--bg-color);\n",
              "    border: none;\n",
              "    border-radius: 50%;\n",
              "    cursor: pointer;\n",
              "    display: none;\n",
              "    fill: var(--fill-color);\n",
              "    height: 32px;\n",
              "    padding: 0;\n",
              "    width: 32px;\n",
              "  }\n",
              "\n",
              "  .colab-df-quickchart:hover {\n",
              "    background-color: var(--hover-bg-color);\n",
              "    box-shadow: 0 1px 2px rgba(60, 64, 67, 0.3), 0 1px 3px 1px rgba(60, 64, 67, 0.15);\n",
              "    fill: var(--button-hover-fill-color);\n",
              "  }\n",
              "\n",
              "  .colab-df-quickchart-complete:disabled,\n",
              "  .colab-df-quickchart-complete:disabled:hover {\n",
              "    background-color: var(--disabled-bg-color);\n",
              "    fill: var(--disabled-fill-color);\n",
              "    box-shadow: none;\n",
              "  }\n",
              "\n",
              "  .colab-df-spinner {\n",
              "    border: 2px solid var(--fill-color);\n",
              "    border-color: transparent;\n",
              "    border-bottom-color: var(--fill-color);\n",
              "    animation:\n",
              "      spin 1s steps(1) infinite;\n",
              "  }\n",
              "\n",
              "  @keyframes spin {\n",
              "    0% {\n",
              "      border-color: transparent;\n",
              "      border-bottom-color: var(--fill-color);\n",
              "      border-left-color: var(--fill-color);\n",
              "    }\n",
              "    20% {\n",
              "      border-color: transparent;\n",
              "      border-left-color: var(--fill-color);\n",
              "      border-top-color: var(--fill-color);\n",
              "    }\n",
              "    30% {\n",
              "      border-color: transparent;\n",
              "      border-left-color: var(--fill-color);\n",
              "      border-top-color: var(--fill-color);\n",
              "      border-right-color: var(--fill-color);\n",
              "    }\n",
              "    40% {\n",
              "      border-color: transparent;\n",
              "      border-right-color: var(--fill-color);\n",
              "      border-top-color: var(--fill-color);\n",
              "    }\n",
              "    60% {\n",
              "      border-color: transparent;\n",
              "      border-right-color: var(--fill-color);\n",
              "    }\n",
              "    80% {\n",
              "      border-color: transparent;\n",
              "      border-right-color: var(--fill-color);\n",
              "      border-bottom-color: var(--fill-color);\n",
              "    }\n",
              "    90% {\n",
              "      border-color: transparent;\n",
              "      border-bottom-color: var(--fill-color);\n",
              "    }\n",
              "  }\n",
              "</style>\n",
              "\n",
              "  <script>\n",
              "    async function quickchart(key) {\n",
              "      const quickchartButtonEl =\n",
              "        document.querySelector('#' + key + ' button');\n",
              "      quickchartButtonEl.disabled = true;  // To prevent multiple clicks.\n",
              "      quickchartButtonEl.classList.add('colab-df-spinner');\n",
              "      try {\n",
              "        const charts = await google.colab.kernel.invokeFunction(\n",
              "            'suggestCharts', [key], {});\n",
              "      } catch (error) {\n",
              "        console.error('Error during call to suggestCharts:', error);\n",
              "      }\n",
              "      quickchartButtonEl.classList.remove('colab-df-spinner');\n",
              "      quickchartButtonEl.classList.add('colab-df-quickchart-complete');\n",
              "    }\n",
              "    (() => {\n",
              "      let quickchartButtonEl =\n",
              "        document.querySelector('#df-4eacf6a9-d24d-4c02-a8de-8947d25b3923 button');\n",
              "      quickchartButtonEl.style.display =\n",
              "        google.colab.kernel.accessAllowed ? 'block' : 'none';\n",
              "    })();\n",
              "  </script>\n",
              "</div>\n",
              "    </div>\n",
              "  </div>\n"
            ],
            "application/vnd.google.colaboratory.intrinsic+json": {
              "type": "dataframe",
              "variable_name": "df",
              "summary": "{\n  \"name\": \"df\",\n  \"rows\": 3149,\n  \"fields\": [\n    {\n      \"column\": \"id\",\n      \"properties\": {\n        \"dtype\": \"string\",\n        \"num_unique_values\": 3149,\n        \"samples\": [\n          \"6069\",\n          \"6099\",\n          \"4987\"\n        ],\n        \"semantic_type\": \"\",\n        \"description\": \"\"\n      }\n    },\n    {\n      \"column\": \"name\",\n      \"properties\": {\n        \"dtype\": \"string\",\n        \"num_unique_values\": 3068,\n        \"samples\": [\n          \"cpd:C00068\",\n          \"cpd:C06442\",\n          \"cpd:C00925\"\n        ],\n        \"semantic_type\": \"\",\n        \"description\": \"\"\n      }\n    },\n    {\n      \"column\": \"type\",\n      \"properties\": {\n        \"dtype\": \"category\",\n        \"num_unique_values\": 1,\n        \"samples\": [\n          \"compound\"\n        ],\n        \"semantic_type\": \"\",\n        \"description\": \"\"\n      }\n    },\n    {\n      \"column\": \"link\",\n      \"properties\": {\n        \"dtype\": \"string\",\n        \"num_unique_values\": 3068,\n        \"samples\": [\n          \"https://www.kegg.jp/dbget-bin/www_bget?C00068\"\n        ],\n        \"semantic_type\": \"\",\n        \"description\": \"\"\n      }\n    }\n  ]\n}"
            }
          },
          "metadata": {},
          "execution_count": 29
        },
        {
          "output_type": "stream",
          "name": "stdout",
          "text": [
            "No charts were generated by quickchart\n"
          ]
        }
      ]
    },
    {
      "cell_type": "code",
      "source": [
        "df.to_csv(\"dme01100.csv\", sep=\";\")"
      ],
      "metadata": {
        "id": "s29JaEsfk1HD"
      },
      "execution_count": null,
      "outputs": []
    },
    {
      "cell_type": "code",
      "source": [
        "files.download(\"dme01100.csv\")"
      ],
      "metadata": {
        "colab": {
          "base_uri": "https://localhost:8080/",
          "height": 17
        },
        "id": "3ty8hy0aol1z",
        "outputId": "659c85f1-f63c-488b-e994-c47be1e436b8"
      },
      "execution_count": null,
      "outputs": [
        {
          "output_type": "display_data",
          "data": {
            "text/plain": [
              "<IPython.core.display.Javascript object>"
            ],
            "application/javascript": [
              "\n",
              "    async function download(id, filename, size) {\n",
              "      if (!google.colab.kernel.accessAllowed) {\n",
              "        return;\n",
              "      }\n",
              "      const div = document.createElement('div');\n",
              "      const label = document.createElement('label');\n",
              "      label.textContent = `Downloading \"${filename}\": `;\n",
              "      div.appendChild(label);\n",
              "      const progress = document.createElement('progress');\n",
              "      progress.max = size;\n",
              "      div.appendChild(progress);\n",
              "      document.body.appendChild(div);\n",
              "\n",
              "      const buffers = [];\n",
              "      let downloaded = 0;\n",
              "\n",
              "      const channel = await google.colab.kernel.comms.open(id);\n",
              "      // Send a message to notify the kernel that we're ready.\n",
              "      channel.send({})\n",
              "\n",
              "      for await (const message of channel.messages) {\n",
              "        // Send a message to notify the kernel that we're ready.\n",
              "        channel.send({})\n",
              "        if (message.buffers) {\n",
              "          for (const buffer of message.buffers) {\n",
              "            buffers.push(buffer);\n",
              "            downloaded += buffer.byteLength;\n",
              "            progress.value = downloaded;\n",
              "          }\n",
              "        }\n",
              "      }\n",
              "      const blob = new Blob(buffers, {type: 'application/binary'});\n",
              "      const a = document.createElement('a');\n",
              "      a.href = window.URL.createObjectURL(blob);\n",
              "      a.download = filename;\n",
              "      div.appendChild(a);\n",
              "      a.click();\n",
              "      div.remove();\n",
              "    }\n",
              "  "
            ]
          },
          "metadata": {}
        },
        {
          "output_type": "display_data",
          "data": {
            "text/plain": [
              "<IPython.core.display.Javascript object>"
            ],
            "application/javascript": [
              "download(\"download_8fa9d9fc-074c-413a-9b67-c42929f4d698\", \"dme01100.csv\", 238287)"
            ]
          },
          "metadata": {}
        }
      ]
    }
  ]
}