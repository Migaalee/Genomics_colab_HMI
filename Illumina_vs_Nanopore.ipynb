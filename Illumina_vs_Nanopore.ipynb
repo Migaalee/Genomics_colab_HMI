{
  "nbformat": 4,
  "nbformat_minor": 0,
  "metadata": {
    "colab": {
      "provenance": [],
      "include_colab_link": true
    },
    "kernelspec": {
      "name": "python3",
      "display_name": "Python 3"
    },
    "language_info": {
      "name": "python"
    },
    "gpuClass": "standard"
  },
  "cells": [
    {
      "cell_type": "markdown",
      "metadata": {
        "id": "view-in-github",
        "colab_type": "text"
      },
      "source": [
        "<a href=\"https://colab.research.google.com/github/Migaalee/Genomics_colab_HMI/blob/main/Illumina_vs_Nanopore.ipynb\" target=\"_parent\"><img src=\"https://colab.research.google.com/assets/colab-badge.svg\" alt=\"Open In Colab\"/></a>"
      ]
    },
    {
      "cell_type": "markdown",
      "metadata": {
        "id": "a4UX_KoNojez"
      },
      "source": [
        "# 1. Project description\n",
        "\n",
        " Explanation of the dataset. Compare Illumina GT (L2 library), Control non-irradiated (L1 library) and Nanopore GT (barcode 65), Control non-irradiated (barcode 57)\n",
        "\n"
      ]
    },
    {
      "cell_type": "markdown",
      "source": [
        "### Install necessary software"
      ],
      "metadata": {
        "id": "mEl0ovff2kYn"
      }
    },
    {
      "cell_type": "code",
      "source": [
        "!pip install pysam pandas seaborn graphkb"
      ],
      "metadata": {
        "colab": {
          "base_uri": "https://localhost:8080/"
        },
        "id": "9SSyTh0_2twv",
        "outputId": "59a899c6-2a44-4f5a-ce91-cd955f3fda16"
      },
      "execution_count": null,
      "outputs": [
        {
          "output_type": "stream",
          "name": "stderr",
          "text": [
            "/usr/local/lib/python3.10/dist-packages/ipykernel/ipkernel.py:283: DeprecationWarning: `should_run_async` will not call `transform_cell` automatically in the future. Please pass the result to `transformed_cell` argument and any exception that happen during thetransform in `preprocessing_exc_tuple` in IPython 7.17 and above.\n",
            "  and should_run_async(code)\n"
          ]
        },
        {
          "output_type": "stream",
          "name": "stdout",
          "text": [
            "Requirement already satisfied: pysam in /usr/local/lib/python3.10/dist-packages (0.22.0)\n",
            "Requirement already satisfied: pandas in /usr/local/lib/python3.10/dist-packages (1.5.3)\n",
            "Requirement already satisfied: seaborn in /usr/local/lib/python3.10/dist-packages (0.12.2)\n",
            "Requirement already satisfied: graphkb in /usr/local/lib/python3.10/dist-packages (1.12.0)\n",
            "Requirement already satisfied: python-dateutil>=2.8.1 in /usr/local/lib/python3.10/dist-packages (from pandas) (2.8.2)\n",
            "Requirement already satisfied: pytz>=2020.1 in /usr/local/lib/python3.10/dist-packages (from pandas) (2023.3.post1)\n",
            "Requirement already satisfied: numpy>=1.21.0 in /usr/local/lib/python3.10/dist-packages (from pandas) (1.23.5)\n",
            "Requirement already satisfied: matplotlib!=3.6.1,>=3.1 in /usr/local/lib/python3.10/dist-packages (from seaborn) (3.7.1)\n",
            "Requirement already satisfied: requests<2.29.0 in /usr/local/lib/python3.10/dist-packages (from graphkb) (2.28.2)\n",
            "Requirement already satisfied: typing-extensions<4.4,>=3.7.4.2 in /usr/local/lib/python3.10/dist-packages (from graphkb) (4.3.0)\n",
            "Requirement already satisfied: contourpy>=1.0.1 in /usr/local/lib/python3.10/dist-packages (from matplotlib!=3.6.1,>=3.1->seaborn) (1.1.1)\n",
            "Requirement already satisfied: cycler>=0.10 in /usr/local/lib/python3.10/dist-packages (from matplotlib!=3.6.1,>=3.1->seaborn) (0.12.1)\n",
            "Requirement already satisfied: fonttools>=4.22.0 in /usr/local/lib/python3.10/dist-packages (from matplotlib!=3.6.1,>=3.1->seaborn) (4.43.1)\n",
            "Requirement already satisfied: kiwisolver>=1.0.1 in /usr/local/lib/python3.10/dist-packages (from matplotlib!=3.6.1,>=3.1->seaborn) (1.4.5)\n",
            "Requirement already satisfied: packaging>=20.0 in /usr/local/lib/python3.10/dist-packages (from matplotlib!=3.6.1,>=3.1->seaborn) (23.2)\n",
            "Requirement already satisfied: pillow>=6.2.0 in /usr/local/lib/python3.10/dist-packages (from matplotlib!=3.6.1,>=3.1->seaborn) (9.4.0)\n",
            "Requirement already satisfied: pyparsing>=2.3.1 in /usr/local/lib/python3.10/dist-packages (from matplotlib!=3.6.1,>=3.1->seaborn) (3.1.1)\n",
            "Requirement already satisfied: six>=1.5 in /usr/local/lib/python3.10/dist-packages (from python-dateutil>=2.8.1->pandas) (1.16.0)\n",
            "Requirement already satisfied: charset-normalizer<4,>=2 in /usr/local/lib/python3.10/dist-packages (from requests<2.29.0->graphkb) (3.3.0)\n",
            "Requirement already satisfied: idna<4,>=2.5 in /usr/local/lib/python3.10/dist-packages (from requests<2.29.0->graphkb) (3.4)\n",
            "Requirement already satisfied: urllib3<1.27,>=1.21.1 in /usr/local/lib/python3.10/dist-packages (from requests<2.29.0->graphkb) (1.26.17)\n",
            "Requirement already satisfied: certifi>=2017.4.17 in /usr/local/lib/python3.10/dist-packages (from requests<2.29.0->graphkb) (2023.7.22)\n"
          ]
        }
      ]
    },
    {
      "cell_type": "code",
      "source": [
        "pip install aplanat"
      ],
      "metadata": {
        "colab": {
          "base_uri": "https://localhost:8080/"
        },
        "id": "xrXnx5Ik8-ci",
        "outputId": "21f471eb-c31c-4822-ce3a-21851bf19b07"
      },
      "execution_count": null,
      "outputs": [
        {
          "output_type": "stream",
          "name": "stderr",
          "text": [
            "/usr/local/lib/python3.10/dist-packages/ipykernel/ipkernel.py:283: DeprecationWarning: `should_run_async` will not call `transform_cell` automatically in the future. Please pass the result to `transformed_cell` argument and any exception that happen during thetransform in `preprocessing_exc_tuple` in IPython 7.17 and above.\n",
            "  and should_run_async(code)\n"
          ]
        },
        {
          "output_type": "stream",
          "name": "stdout",
          "text": [
            "Requirement already satisfied: aplanat in /usr/local/lib/python3.10/dist-packages (0.6.16)\n",
            "Requirement already satisfied: bokeh<3.0.0 in /usr/local/lib/python3.10/dist-packages (from aplanat) (2.4.3)\n",
            "Requirement already satisfied: icon-font-to-png in /usr/local/lib/python3.10/dist-packages (from aplanat) (0.4.1)\n",
            "Requirement already satisfied: markdown in /usr/local/lib/python3.10/dist-packages (from aplanat) (3.5)\n",
            "Requirement already satisfied: numpy in /usr/local/lib/python3.10/dist-packages (from aplanat) (1.23.5)\n",
            "Requirement already satisfied: pandas>=1.0.3 in /usr/local/lib/python3.10/dist-packages (from aplanat) (1.5.3)\n",
            "Requirement already satisfied: Pillow in /usr/local/lib/python3.10/dist-packages (from aplanat) (9.4.0)\n",
            "Requirement already satisfied: scipy in /usr/local/lib/python3.10/dist-packages (from aplanat) (1.11.3)\n",
            "Requirement already satisfied: si-prefix in /usr/local/lib/python3.10/dist-packages (from aplanat) (1.2.2)\n",
            "Requirement already satisfied: scikit-learn in /usr/local/lib/python3.10/dist-packages (from aplanat) (1.2.2)\n",
            "Requirement already satisfied: sigfig in /usr/local/lib/python3.10/dist-packages (from aplanat) (1.3.3)\n",
            "Requirement already satisfied: Jinja2>=2.9 in /usr/local/lib/python3.10/dist-packages (from bokeh<3.0.0->aplanat) (3.1.2)\n",
            "Requirement already satisfied: packaging>=16.8 in /usr/local/lib/python3.10/dist-packages (from bokeh<3.0.0->aplanat) (23.2)\n",
            "Requirement already satisfied: PyYAML>=3.10 in /usr/local/lib/python3.10/dist-packages (from bokeh<3.0.0->aplanat) (6.0.1)\n",
            "Requirement already satisfied: tornado>=5.1 in /usr/local/lib/python3.10/dist-packages (from bokeh<3.0.0->aplanat) (6.3.2)\n",
            "Requirement already satisfied: typing-extensions>=3.10.0 in /usr/local/lib/python3.10/dist-packages (from bokeh<3.0.0->aplanat) (4.3.0)\n",
            "Requirement already satisfied: python-dateutil>=2.8.1 in /usr/local/lib/python3.10/dist-packages (from pandas>=1.0.3->aplanat) (2.8.2)\n",
            "Requirement already satisfied: pytz>=2020.1 in /usr/local/lib/python3.10/dist-packages (from pandas>=1.0.3->aplanat) (2023.3.post1)\n",
            "Requirement already satisfied: requests>=2.12.5 in /usr/local/lib/python3.10/dist-packages (from icon-font-to-png->aplanat) (2.28.2)\n",
            "Requirement already satisfied: six>=1.10.0 in /usr/local/lib/python3.10/dist-packages (from icon-font-to-png->aplanat) (1.16.0)\n",
            "Requirement already satisfied: tinycss>=0.4 in /usr/local/lib/python3.10/dist-packages (from icon-font-to-png->aplanat) (0.4)\n",
            "Requirement already satisfied: joblib>=1.1.1 in /usr/local/lib/python3.10/dist-packages (from scikit-learn->aplanat) (1.3.2)\n",
            "Requirement already satisfied: threadpoolctl>=2.0.0 in /usr/local/lib/python3.10/dist-packages (from scikit-learn->aplanat) (3.2.0)\n",
            "Requirement already satisfied: SortedContainers in /usr/local/lib/python3.10/dist-packages (from sigfig->aplanat) (2.4.0)\n",
            "Requirement already satisfied: MarkupSafe>=2.0 in /usr/local/lib/python3.10/dist-packages (from Jinja2>=2.9->bokeh<3.0.0->aplanat) (2.1.3)\n",
            "Requirement already satisfied: charset-normalizer<4,>=2 in /usr/local/lib/python3.10/dist-packages (from requests>=2.12.5->icon-font-to-png->aplanat) (3.3.0)\n",
            "Requirement already satisfied: idna<4,>=2.5 in /usr/local/lib/python3.10/dist-packages (from requests>=2.12.5->icon-font-to-png->aplanat) (3.4)\n",
            "Requirement already satisfied: urllib3<1.27,>=1.21.1 in /usr/local/lib/python3.10/dist-packages (from requests>=2.12.5->icon-font-to-png->aplanat) (1.26.17)\n",
            "Requirement already satisfied: certifi>=2017.4.17 in /usr/local/lib/python3.10/dist-packages (from requests>=2.12.5->icon-font-to-png->aplanat) (2023.7.22)\n"
          ]
        }
      ]
    },
    {
      "cell_type": "code",
      "source": [
        "pip install scikit-allel"
      ],
      "metadata": {
        "colab": {
          "base_uri": "https://localhost:8080/"
        },
        "id": "iA5YpH7QiflU",
        "outputId": "8f607f67-177f-43a2-8d62-933c15379865"
      },
      "execution_count": null,
      "outputs": [
        {
          "output_type": "stream",
          "name": "stderr",
          "text": [
            "/usr/local/lib/python3.10/dist-packages/ipykernel/ipkernel.py:283: DeprecationWarning: `should_run_async` will not call `transform_cell` automatically in the future. Please pass the result to `transformed_cell` argument and any exception that happen during thetransform in `preprocessing_exc_tuple` in IPython 7.17 and above.\n",
            "  and should_run_async(code)\n"
          ]
        },
        {
          "output_type": "stream",
          "name": "stdout",
          "text": [
            "Requirement already satisfied: scikit-allel in /usr/local/lib/python3.10/dist-packages (1.3.7)\n",
            "Requirement already satisfied: numpy in /usr/local/lib/python3.10/dist-packages (from scikit-allel) (1.23.5)\n",
            "Requirement already satisfied: dask[array] in /usr/local/lib/python3.10/dist-packages (from scikit-allel) (2023.8.1)\n",
            "Requirement already satisfied: click>=8.0 in /usr/local/lib/python3.10/dist-packages (from dask[array]->scikit-allel) (8.1.7)\n",
            "Requirement already satisfied: cloudpickle>=1.5.0 in /usr/local/lib/python3.10/dist-packages (from dask[array]->scikit-allel) (2.2.1)\n",
            "Requirement already satisfied: fsspec>=2021.09.0 in /usr/local/lib/python3.10/dist-packages (from dask[array]->scikit-allel) (2023.6.0)\n",
            "Requirement already satisfied: packaging>=20.0 in /usr/local/lib/python3.10/dist-packages (from dask[array]->scikit-allel) (23.2)\n",
            "Requirement already satisfied: partd>=1.2.0 in /usr/local/lib/python3.10/dist-packages (from dask[array]->scikit-allel) (1.4.1)\n",
            "Requirement already satisfied: pyyaml>=5.3.1 in /usr/local/lib/python3.10/dist-packages (from dask[array]->scikit-allel) (6.0.1)\n",
            "Requirement already satisfied: toolz>=0.10.0 in /usr/local/lib/python3.10/dist-packages (from dask[array]->scikit-allel) (0.12.0)\n",
            "Requirement already satisfied: importlib-metadata>=4.13.0 in /usr/local/lib/python3.10/dist-packages (from dask[array]->scikit-allel) (6.8.0)\n",
            "Requirement already satisfied: zipp>=0.5 in /usr/local/lib/python3.10/dist-packages (from importlib-metadata>=4.13.0->dask[array]->scikit-allel) (3.17.0)\n",
            "Requirement already satisfied: locket in /usr/local/lib/python3.10/dist-packages (from partd>=1.2.0->dask[array]->scikit-allel) (1.0.0)\n"
          ]
        }
      ]
    },
    {
      "cell_type": "code",
      "source": [
        "pip install --upgrade ipykernel\n"
      ],
      "metadata": {
        "colab": {
          "base_uri": "https://localhost:8080/"
        },
        "id": "TP7kwUT69uA5",
        "outputId": "eee49ca9-f256-49fc-d6d7-7b43c10fae32"
      },
      "execution_count": null,
      "outputs": [
        {
          "output_type": "stream",
          "name": "stderr",
          "text": [
            "/usr/local/lib/python3.10/dist-packages/ipykernel/ipkernel.py:283: DeprecationWarning: `should_run_async` will not call `transform_cell` automatically in the future. Please pass the result to `transformed_cell` argument and any exception that happen during thetransform in `preprocessing_exc_tuple` in IPython 7.17 and above.\n",
            "  and should_run_async(code)\n"
          ]
        },
        {
          "output_type": "stream",
          "name": "stdout",
          "text": [
            "Requirement already satisfied: ipykernel in /usr/local/lib/python3.10/dist-packages (6.25.2)\n",
            "Requirement already satisfied: comm>=0.1.1 in /usr/local/lib/python3.10/dist-packages (from ipykernel) (0.1.4)\n",
            "Requirement already satisfied: debugpy>=1.6.5 in /usr/local/lib/python3.10/dist-packages (from ipykernel) (1.6.6)\n",
            "Requirement already satisfied: ipython>=7.23.1 in /usr/local/lib/python3.10/dist-packages (from ipykernel) (7.34.0)\n",
            "Requirement already satisfied: jupyter-client>=6.1.12 in /usr/local/lib/python3.10/dist-packages (from ipykernel) (6.1.12)\n",
            "Requirement already satisfied: jupyter-core!=5.0.*,>=4.12 in /usr/local/lib/python3.10/dist-packages (from ipykernel) (5.4.0)\n",
            "Requirement already satisfied: matplotlib-inline>=0.1 in /usr/local/lib/python3.10/dist-packages (from ipykernel) (0.1.6)\n",
            "Requirement already satisfied: nest-asyncio in /usr/local/lib/python3.10/dist-packages (from ipykernel) (1.5.8)\n",
            "Requirement already satisfied: packaging in /usr/local/lib/python3.10/dist-packages (from ipykernel) (23.2)\n",
            "Requirement already satisfied: psutil in /usr/local/lib/python3.10/dist-packages (from ipykernel) (5.9.5)\n",
            "Requirement already satisfied: pyzmq>=20 in /usr/local/lib/python3.10/dist-packages (from ipykernel) (23.2.1)\n",
            "Requirement already satisfied: tornado>=6.1 in /usr/local/lib/python3.10/dist-packages (from ipykernel) (6.3.2)\n",
            "Requirement already satisfied: traitlets>=5.4.0 in /usr/local/lib/python3.10/dist-packages (from ipykernel) (5.7.1)\n",
            "Requirement already satisfied: setuptools>=18.5 in /usr/local/lib/python3.10/dist-packages (from ipython>=7.23.1->ipykernel) (67.7.2)\n",
            "Requirement already satisfied: jedi>=0.16 in /usr/local/lib/python3.10/dist-packages (from ipython>=7.23.1->ipykernel) (0.19.1)\n",
            "Requirement already satisfied: decorator in /usr/local/lib/python3.10/dist-packages (from ipython>=7.23.1->ipykernel) (4.4.2)\n",
            "Requirement already satisfied: pickleshare in /usr/local/lib/python3.10/dist-packages (from ipython>=7.23.1->ipykernel) (0.7.5)\n",
            "Requirement already satisfied: prompt-toolkit!=3.0.0,!=3.0.1,<3.1.0,>=2.0.0 in /usr/local/lib/python3.10/dist-packages (from ipython>=7.23.1->ipykernel) (3.0.39)\n",
            "Requirement already satisfied: pygments in /usr/local/lib/python3.10/dist-packages (from ipython>=7.23.1->ipykernel) (2.16.1)\n",
            "Requirement already satisfied: backcall in /usr/local/lib/python3.10/dist-packages (from ipython>=7.23.1->ipykernel) (0.2.0)\n",
            "Requirement already satisfied: pexpect>4.3 in /usr/local/lib/python3.10/dist-packages (from ipython>=7.23.1->ipykernel) (4.8.0)\n",
            "Requirement already satisfied: python-dateutil>=2.1 in /usr/local/lib/python3.10/dist-packages (from jupyter-client>=6.1.12->ipykernel) (2.8.2)\n",
            "Requirement already satisfied: platformdirs>=2.5 in /usr/local/lib/python3.10/dist-packages (from jupyter-core!=5.0.*,>=4.12->ipykernel) (3.11.0)\n",
            "Requirement already satisfied: parso<0.9.0,>=0.8.3 in /usr/local/lib/python3.10/dist-packages (from jedi>=0.16->ipython>=7.23.1->ipykernel) (0.8.3)\n",
            "Requirement already satisfied: ptyprocess>=0.5 in /usr/local/lib/python3.10/dist-packages (from pexpect>4.3->ipython>=7.23.1->ipykernel) (0.7.0)\n",
            "Requirement already satisfied: wcwidth in /usr/local/lib/python3.10/dist-packages (from prompt-toolkit!=3.0.0,!=3.0.1,<3.1.0,>=2.0.0->ipython>=7.23.1->ipykernel) (0.2.8)\n",
            "Requirement already satisfied: six>=1.5 in /usr/local/lib/python3.10/dist-packages (from python-dateutil>=2.1->jupyter-client>=6.1.12->ipykernel) (1.16.0)\n"
          ]
        }
      ]
    },
    {
      "cell_type": "markdown",
      "metadata": {
        "id": "OZBjnTqfot15"
      },
      "source": [
        "### Import all packages that will be used"
      ]
    },
    {
      "cell_type": "code",
      "metadata": {
        "id": "RXqLP1mJoebY",
        "colab": {
          "base_uri": "https://localhost:8080/"
        },
        "outputId": "211f7524-6cac-475c-f5f2-7eb743f84812"
      },
      "source": [
        "# Numpy for data management\n",
        "import numpy as np\n",
        "\n",
        "# Pandas also for data management\n",
        "import pandas as pd\n",
        "\n",
        "# Matplotlib for additional customization\n",
        "from matplotlib import pyplot as plt\n",
        "%matplotlib inline\n",
        "\n",
        "#ScikitLearn\n",
        "\n",
        "from sklearn.linear_model import LogisticRegression\n",
        "\n",
        "from sklearn.model_selection import train_test_split\n",
        "\n",
        "from sklearn.model_selection import KFold\n",
        "\n",
        "from sklearn.model_selection import StratifiedKFold\n",
        "\n",
        "from sklearn.model_selection import KFold\n",
        "\n",
        "from sklearn.neighbors import KernelDensity\n",
        "\n",
        "from sklearn.model_selection import StratifiedKFold\n",
        "\n",
        "from sklearn.utils import shuffle\n",
        "\n",
        "from sklearn.naive_bayes import GaussianNB\n",
        "\n",
        "from sklearn.utils import shuffle\n",
        "\n",
        "from scipy.stats import mode\n",
        "\n",
        "from google.colab import files #this is to load files from your local disk\n",
        "\n",
        "from sklearn.svm import LinearSVC\n",
        "\n",
        "from sklearn.svm import SVC\n",
        "\n",
        "from pysam import VariantFile\n",
        "\n",
        "import itertools\n",
        "\n",
        "from bokeh.layouts import gridplot\n",
        "import aplanat\n",
        "from aplanat import bars\n",
        "from sklearn.model_selection import GridSearchCV\n",
        "from sklearn import metrics\n",
        "from sklearn.model_selection import RepeatedStratifiedKFold\n",
        "from sklearn.metrics import confusion_matrix, ConfusionMatrixDisplay\n",
        "from scipy.sparse.construct import hstack\n",
        "import re\n",
        "import allel\n"
      ],
      "execution_count": null,
      "outputs": [
        {
          "output_type": "stream",
          "name": "stderr",
          "text": [
            "/usr/local/lib/python3.10/dist-packages/ipykernel/ipkernel.py:283: DeprecationWarning: `should_run_async` will not call `transform_cell` automatically in the future. Please pass the result to `transformed_cell` argument and any exception that happen during thetransform in `preprocessing_exc_tuple` in IPython 7.17 and above.\n",
            "  and should_run_async(code)\n",
            "<ipython-input-301-722a4d47e3d2>:52: DeprecationWarning: Please use `hstack` from the `scipy.sparse` namespace, the `scipy.sparse.construct` namespace is deprecated.\n",
            "  from scipy.sparse.construct import hstack\n"
          ]
        }
      ]
    },
    {
      "cell_type": "markdown",
      "source": [
        "### Auxiliary functions"
      ],
      "metadata": {
        "id": "agaSFyLfB7tS"
      }
    },
    {
      "cell_type": "code",
      "source": [
        "def parse_vcf(fname, info_cols=None, nrows=None):\n",
        "    \"\"\"Parse a VCF file into a dataframe.\n",
        "    The INFO column is parsed into a dictionary with specified dtype in distinct column.\n",
        "    nrows: how many rows to read from the start of the header.\n",
        "    Example:\n",
        "    vcf_df_GT = parse_vcf('test.vcf', info_cols={'DP':int,'CIGAR':str,}, nrows=1000)\n",
        "    \"\"\"\n",
        "    header = \"CHROM POS ID REF ALT QUAL FILTER INFO FORMAT GT\".split()\n",
        "    vcf = pd.read_csv(\n",
        "        fname, delimiter='\\t', comment='#', names=header, nrows=nrows)\n",
        "    # create a dictionary out of INFO field\n",
        "    vcf['INFO'] = vcf['INFO'].str.split(\";\") \\\n",
        "        .apply(lambda x: dict([y.split(\"=\") for y in x]))\n",
        "    if info_cols is not None:\n",
        "        for field, dtype in info_cols.items():\n",
        "            try:\n",
        "                vcf[field] = vcf['INFO'].apply(lambda x: x.get(field, None))\n",
        "                vcf[field] = vcf[field].astype(dtype)\n",
        "            except:\n",
        "                pass\n",
        "    return vcf\n",
        "\n",
        "def parse_vcf2(fname, info_cols=None, nrows=None):\n",
        "    \"\"\"Parse a VCF file into a dataframe.\n",
        "    The INFO column is parsed into a dictionary with specified dtype in distinct column.\n",
        "    nrows: how many rows to read from the start of the header.\n",
        "    Example:\n",
        "    vcf_df_GT = parse_vcf('test.vcf', info_cols={'DP':int,'CIGAR':str,}, nrows=1000)\n",
        "    \"\"\"\n",
        "    header = \"CHROM POS ID REF ALT QUAL FILTER INFO FORMAT GT GT2\".split()\n",
        "    vcf = pd.read_csv(\n",
        "        fname, delimiter='\\t', comment='#', names=header, nrows=nrows)\n",
        "    # create a dictionary out of INFO field\n",
        "    vcf['INFO'] = vcf['INFO'].str.split(\";\") \\\n",
        "        .apply(lambda x: dict([y.split(\"=\") for y in x]))\n",
        "    if info_cols is not None:\n",
        "        for field, dtype in info_cols.items():\n",
        "            try:\n",
        "                vcf[field] = vcf['INFO'].apply(lambda x: x.get(field, None))\n",
        "                vcf[field] = vcf[field].astype(dtype)\n",
        "            except:\n",
        "                pass\n",
        "    return vcf\n",
        "\n",
        "\n",
        "\n",
        "\n",
        "def match_groudtruth (dataset, gt_dataset):\n",
        "  \"\"\" Return dataset with ground truth data (1 for variant and 0 for false positive)\n",
        "  based on the provided gt_dataset. Return dataset only with continous features. This function\n",
        "  is to be used for creating dataset for training with ML classifiers.\n",
        " \"\"\"\n",
        "  dataset2=dataset.assign(GROUND=dataset.POS.isin(gt_dataset.POS).astype(int))\n",
        "  dataset3= dataset2.loc[:,((dataset2.dtypes=='float64').values | (dataset2.dtypes=='int').values)]\n",
        "  dataset4 = dataset3.set_index('POS')\n",
        "  return dataset4\n",
        "\n",
        "\n",
        "def confusion_matrix(dataset, gt_dataset, genome_size):\n",
        "    \"\"\"\n",
        "    Based on the dataset that was generated from variant caller pipeline and ground truth dataset\n",
        "    (all known mutations, e.g., all true positives) calculate the confusion matrix.\n",
        "    \"\"\"\n",
        "    d_P = dataset[\"POS\"].values\n",
        "    g_P = gt_dataset[\"POS\"].values\n",
        "    matrix = np.zeros((2, 2))  # Matrix of 2 by 2 (added a missing closing parenthesis)\n",
        "    matrix[1, 1] = genome_size - len(gt_dataset)  # True Negatives\n",
        "    for i in d_P:\n",
        "        if i in g_P:\n",
        "            matrix[0, 0] += 1  # True Positives\n",
        "        elif i not in g_P:\n",
        "            matrix[0, 1] += 1  # False Positives\n",
        "    for k in g_P:\n",
        "        if k not in d_P:\n",
        "            matrix[1, 0] += 1  # False Negatives\n",
        "    return matrix\n",
        "\n",
        "\n",
        "\n",
        "\n",
        "import matplotlib.pyplot as plt\n",
        "\n",
        "def plot_custom_confusion_matrix(confusion_matrix, title=\"Confusion Matrix\"):\n",
        "    \"\"\"\n",
        "    This function plots a custom 2x2 confusion matrix with specified colors by name and labels for TP, TN, FP, FN.\n",
        "\n",
        "    Args:\n",
        "    confusion_matrix (list of lists): A 2x2 confusion matrix in the format [[TP, FP], [FN, TN]]\n",
        "    title (str): Custom title for the confusion matrix (optional)\n",
        "\n",
        "    Returns:\n",
        "    None\n",
        "    \"\"\"\n",
        "    class_names = ['Positive', 'Negative']\n",
        "\n",
        "    plt.imshow(confusion_matrix, interpolation='nearest', cmap='gray', vmin=0, vmax=1, aspect='auto')  # Light gray background\n",
        "    plt.title(title)  # Set the custom title\n",
        "\n",
        "    tick_marks = [0, 1]\n",
        "    plt.xticks(tick_marks, class_names)\n",
        "    plt.yticks(tick_marks, class_names)\n",
        "\n",
        "    labels = [\"TP\", \"FP\", \"FN\", \"TN\"]\n",
        "    for i in range(2):\n",
        "        for j in range(2):\n",
        "            if i == j:\n",
        "                color = 'green'  # TP and TN in limegreen\n",
        "            else:\n",
        "                color = 'red'    # FP and FN in pink\n",
        "            plt.text(j, i, str(confusion_matrix[i][j]), horizontalalignment=\"center\", color=color)\n",
        "            plt.text(j, i-0.2, labels[i*2+j], horizontalalignment=\"center\")\n",
        "\n",
        "    plt.tight_layout()\n",
        "    plt.ylabel('True label')\n",
        "    plt.xlabel('Predicted label')\n",
        "    plt.show()\n",
        "\n",
        "# Example usage with a custom title:\n",
        "# Replace the example matrix with your actual 2x2 confusion matrix\n",
        "# custom_matrix = [[42, 8], [12, 38]]\n",
        "# plot_custom_confusion_matrix(custom_matrix, title=\"Confusion Matrix - My Title\")\n",
        "\n",
        "\n",
        "\n",
        "\n",
        "def metrics(matrix, calculate=None):\n",
        "  \"\"\"Function to calculate metrics for different variant callers based on confusion matrix.\n",
        "  If no second argument is given, returns all the metrics. If particular metric is necessary,\n",
        "  define the argument in the following way.\n",
        "  Example:\n",
        "  precision=metrics(matrix, \"precision\")\n",
        "  \"\"\"\n",
        "  precision=matrix[0,0]/(matrix[0,0]+matrix[0,1])\n",
        "  recall= matrix[0,0]/(matrix[0,0]+matrix[1,0])\n",
        "  accuracy=(matrix[0,0]+matrix[1,1])/(matrix[0,0]+matrix[0,1]+matrix[1,0]+matrix[1,1])\n",
        "  f1=2*(recall*precision)/(recall+precision)\n",
        "  metrics=[precision, recall, accuracy, f1]\n",
        "  if calculate is None:\n",
        "    return metrics\n",
        "  elif calculate == \"precision\":\n",
        "    return precision\n",
        "  elif calculate == \"recall\":\n",
        "    return recall\n",
        "  elif calculate == \"accuracy\":\n",
        "    return accuracy\n",
        "  elif calculate == \"f1\":\n",
        "    return f1\n",
        "\n",
        "\n",
        "def TPR_FPR(dataset, gt_dataset, genome_size): #pass dataframe from variant caller and GT dataframe\n",
        "    d_P=dataset[\"POS\"].values\n",
        "    g_P=gt_dataset[\"POS\"].values\n",
        "    matrix=np.zeros((2,2)) # matrix of 2 by 2\n",
        "    matrix[1,1]=genome_size - len(gt_dataset) # True Negatives\n",
        "    for i in d_P:\n",
        "        if i in g_P:\n",
        "            matrix[0,0]+=1 #True Positives\n",
        "        elif i not in g_P:\n",
        "            matrix[0,1]+=1 #False Positives\n",
        "    for k in g_P:\n",
        "      if k not in d_P:\n",
        "        matrix[1,0]=+1 #False Negatives\n",
        "    TPR=matrix[0,0]/(matrix[0,0]+matrix[1,0])\n",
        "    FPR=matrix[0,1]/(matrix[1,1]+matrix[0,1])\n",
        "    return TPR, FPR\n",
        "\n"
      ],
      "metadata": {
        "colab": {
          "base_uri": "https://localhost:8080/"
        },
        "id": "KPb_3WCqB7F7",
        "outputId": "ca0a447d-8a1b-4523-9848-2c6e100e625e"
      },
      "execution_count": null,
      "outputs": [
        {
          "output_type": "stream",
          "name": "stderr",
          "text": [
            "/usr/local/lib/python3.10/dist-packages/ipykernel/ipkernel.py:283: DeprecationWarning: `should_run_async` will not call `transform_cell` automatically in the future. Please pass the result to `transformed_cell` argument and any exception that happen during thetransform in `preprocessing_exc_tuple` in IPython 7.17 and above.\n",
            "  and should_run_async(code)\n"
          ]
        }
      ]
    },
    {
      "cell_type": "markdown",
      "source": [
        "### Real variants"
      ],
      "metadata": {
        "id": "iciLsqZH6UBu"
      }
    },
    {
      "cell_type": "code",
      "source": [
        "from google.colab import files\n",
        "GT = files.upload()"
      ],
      "metadata": {
        "colab": {
          "base_uri": "https://localhost:8080/",
          "height": 128
        },
        "id": "gNStGIn26ZaT",
        "outputId": "a626f935-7ece-44d0-e27d-72fbedaae42a"
      },
      "execution_count": 309,
      "outputs": [
        {
          "output_type": "stream",
          "name": "stderr",
          "text": [
            "/usr/local/lib/python3.10/dist-packages/ipykernel/ipkernel.py:283: DeprecationWarning: `should_run_async` will not call `transform_cell` automatically in the future. Please pass the result to `transformed_cell` argument and any exception that happen during thetransform in `preprocessing_exc_tuple` in IPython 7.17 and above.\n",
            "  and should_run_async(code)\n"
          ]
        },
        {
          "output_type": "display_data",
          "data": {
            "text/plain": [
              "<IPython.core.display.HTML object>"
            ],
            "text/html": [
              "\n",
              "     <input type=\"file\" id=\"files-12708b67-3b8a-4e9b-b8eb-481cb9b8c9b7\" name=\"files[]\" multiple disabled\n",
              "        style=\"border:none\" />\n",
              "     <output id=\"result-12708b67-3b8a-4e9b-b8eb-481cb9b8c9b7\">\n",
              "      Upload widget is only available when the cell has been executed in the\n",
              "      current browser session. Please rerun this cell to enable.\n",
              "      </output>\n",
              "      <script>// Copyright 2017 Google LLC\n",
              "//\n",
              "// Licensed under the Apache License, Version 2.0 (the \"License\");\n",
              "// you may not use this file except in compliance with the License.\n",
              "// You may obtain a copy of the License at\n",
              "//\n",
              "//      http://www.apache.org/licenses/LICENSE-2.0\n",
              "//\n",
              "// Unless required by applicable law or agreed to in writing, software\n",
              "// distributed under the License is distributed on an \"AS IS\" BASIS,\n",
              "// WITHOUT WARRANTIES OR CONDITIONS OF ANY KIND, either express or implied.\n",
              "// See the License for the specific language governing permissions and\n",
              "// limitations under the License.\n",
              "\n",
              "/**\n",
              " * @fileoverview Helpers for google.colab Python module.\n",
              " */\n",
              "(function(scope) {\n",
              "function span(text, styleAttributes = {}) {\n",
              "  const element = document.createElement('span');\n",
              "  element.textContent = text;\n",
              "  for (const key of Object.keys(styleAttributes)) {\n",
              "    element.style[key] = styleAttributes[key];\n",
              "  }\n",
              "  return element;\n",
              "}\n",
              "\n",
              "// Max number of bytes which will be uploaded at a time.\n",
              "const MAX_PAYLOAD_SIZE = 100 * 1024;\n",
              "\n",
              "function _uploadFiles(inputId, outputId) {\n",
              "  const steps = uploadFilesStep(inputId, outputId);\n",
              "  const outputElement = document.getElementById(outputId);\n",
              "  // Cache steps on the outputElement to make it available for the next call\n",
              "  // to uploadFilesContinue from Python.\n",
              "  outputElement.steps = steps;\n",
              "\n",
              "  return _uploadFilesContinue(outputId);\n",
              "}\n",
              "\n",
              "// This is roughly an async generator (not supported in the browser yet),\n",
              "// where there are multiple asynchronous steps and the Python side is going\n",
              "// to poll for completion of each step.\n",
              "// This uses a Promise to block the python side on completion of each step,\n",
              "// then passes the result of the previous step as the input to the next step.\n",
              "function _uploadFilesContinue(outputId) {\n",
              "  const outputElement = document.getElementById(outputId);\n",
              "  const steps = outputElement.steps;\n",
              "\n",
              "  const next = steps.next(outputElement.lastPromiseValue);\n",
              "  return Promise.resolve(next.value.promise).then((value) => {\n",
              "    // Cache the last promise value to make it available to the next\n",
              "    // step of the generator.\n",
              "    outputElement.lastPromiseValue = value;\n",
              "    return next.value.response;\n",
              "  });\n",
              "}\n",
              "\n",
              "/**\n",
              " * Generator function which is called between each async step of the upload\n",
              " * process.\n",
              " * @param {string} inputId Element ID of the input file picker element.\n",
              " * @param {string} outputId Element ID of the output display.\n",
              " * @return {!Iterable<!Object>} Iterable of next steps.\n",
              " */\n",
              "function* uploadFilesStep(inputId, outputId) {\n",
              "  const inputElement = document.getElementById(inputId);\n",
              "  inputElement.disabled = false;\n",
              "\n",
              "  const outputElement = document.getElementById(outputId);\n",
              "  outputElement.innerHTML = '';\n",
              "\n",
              "  const pickedPromise = new Promise((resolve) => {\n",
              "    inputElement.addEventListener('change', (e) => {\n",
              "      resolve(e.target.files);\n",
              "    });\n",
              "  });\n",
              "\n",
              "  const cancel = document.createElement('button');\n",
              "  inputElement.parentElement.appendChild(cancel);\n",
              "  cancel.textContent = 'Cancel upload';\n",
              "  const cancelPromise = new Promise((resolve) => {\n",
              "    cancel.onclick = () => {\n",
              "      resolve(null);\n",
              "    };\n",
              "  });\n",
              "\n",
              "  // Wait for the user to pick the files.\n",
              "  const files = yield {\n",
              "    promise: Promise.race([pickedPromise, cancelPromise]),\n",
              "    response: {\n",
              "      action: 'starting',\n",
              "    }\n",
              "  };\n",
              "\n",
              "  cancel.remove();\n",
              "\n",
              "  // Disable the input element since further picks are not allowed.\n",
              "  inputElement.disabled = true;\n",
              "\n",
              "  if (!files) {\n",
              "    return {\n",
              "      response: {\n",
              "        action: 'complete',\n",
              "      }\n",
              "    };\n",
              "  }\n",
              "\n",
              "  for (const file of files) {\n",
              "    const li = document.createElement('li');\n",
              "    li.append(span(file.name, {fontWeight: 'bold'}));\n",
              "    li.append(span(\n",
              "        `(${file.type || 'n/a'}) - ${file.size} bytes, ` +\n",
              "        `last modified: ${\n",
              "            file.lastModifiedDate ? file.lastModifiedDate.toLocaleDateString() :\n",
              "                                    'n/a'} - `));\n",
              "    const percent = span('0% done');\n",
              "    li.appendChild(percent);\n",
              "\n",
              "    outputElement.appendChild(li);\n",
              "\n",
              "    const fileDataPromise = new Promise((resolve) => {\n",
              "      const reader = new FileReader();\n",
              "      reader.onload = (e) => {\n",
              "        resolve(e.target.result);\n",
              "      };\n",
              "      reader.readAsArrayBuffer(file);\n",
              "    });\n",
              "    // Wait for the data to be ready.\n",
              "    let fileData = yield {\n",
              "      promise: fileDataPromise,\n",
              "      response: {\n",
              "        action: 'continue',\n",
              "      }\n",
              "    };\n",
              "\n",
              "    // Use a chunked sending to avoid message size limits. See b/62115660.\n",
              "    let position = 0;\n",
              "    do {\n",
              "      const length = Math.min(fileData.byteLength - position, MAX_PAYLOAD_SIZE);\n",
              "      const chunk = new Uint8Array(fileData, position, length);\n",
              "      position += length;\n",
              "\n",
              "      const base64 = btoa(String.fromCharCode.apply(null, chunk));\n",
              "      yield {\n",
              "        response: {\n",
              "          action: 'append',\n",
              "          file: file.name,\n",
              "          data: base64,\n",
              "        },\n",
              "      };\n",
              "\n",
              "      let percentDone = fileData.byteLength === 0 ?\n",
              "          100 :\n",
              "          Math.round((position / fileData.byteLength) * 100);\n",
              "      percent.textContent = `${percentDone}% done`;\n",
              "\n",
              "    } while (position < fileData.byteLength);\n",
              "  }\n",
              "\n",
              "  // All done.\n",
              "  yield {\n",
              "    response: {\n",
              "      action: 'complete',\n",
              "    }\n",
              "  };\n",
              "}\n",
              "\n",
              "scope.google = scope.google || {};\n",
              "scope.google.colab = scope.google.colab || {};\n",
              "scope.google.colab._files = {\n",
              "  _uploadFiles,\n",
              "  _uploadFilesContinue,\n",
              "};\n",
              "})(self);\n",
              "</script> "
            ]
          },
          "metadata": {}
        },
        {
          "output_type": "stream",
          "name": "stdout",
          "text": [
            "Saving GT_83_Illumina_Nanopore.csv to GT_83_Illumina_Nanopore (1).csv\n"
          ]
        }
      ]
    },
    {
      "cell_type": "code",
      "source": [
        "!ls\n"
      ],
      "metadata": {
        "colab": {
          "base_uri": "https://localhost:8080/"
        },
        "id": "kSMs5Qqf-iih",
        "outputId": "645598fd-4eb4-45b7-8def-15f7a9387486"
      },
      "execution_count": 310,
      "outputs": [
        {
          "output_type": "stream",
          "name": "stdout",
          "text": [
            "'GT_83_Illumina_Nanopore (1).csv'   Illumina_Mutect_L2_S6.vcf\t    Nanopore_Mutect_barcode65.vcf\n",
            " GT_83_Illumina_Nanopore.csv\t    Illumina_Mutect_TN.vcf\t    Nanopore_Mutect_TN.vcf\n",
            " Illumina_Freebayes_00075.vcf\t    Nanopore_Freebayes_00075.vcf    sample_data\n",
            " Illumina_Mutect_L1_S5.vcf\t    Nanopore_Mutect_barcode57.vcf   var5.vcf\n"
          ]
        },
        {
          "output_type": "stream",
          "name": "stderr",
          "text": [
            "/usr/local/lib/python3.10/dist-packages/ipykernel/ipkernel.py:283: DeprecationWarning: `should_run_async` will not call `transform_cell` automatically in the future. Please pass the result to `transformed_cell` argument and any exception that happen during thetransform in `preprocessing_exc_tuple` in IPython 7.17 and above.\n",
            "  and should_run_async(code)\n"
          ]
        }
      ]
    },
    {
      "cell_type": "code",
      "source": [
        "import io\n",
        "vcf_df_GT = pd.read_csv(io.BytesIO(GT['GT_83_Illumina_Nanopore (1).csv']), sep=';')\n",
        "vcf_df_GT"
      ],
      "metadata": {
        "colab": {
          "base_uri": "https://localhost:8080/",
          "height": 495
        },
        "id": "SwVIVNdX61g1",
        "outputId": "3d8022aa-6c0f-46b9-f1f0-e01d66c0b2e6"
      },
      "execution_count": 312,
      "outputs": [
        {
          "output_type": "stream",
          "name": "stderr",
          "text": [
            "/usr/local/lib/python3.10/dist-packages/ipykernel/ipkernel.py:283: DeprecationWarning: `should_run_async` will not call `transform_cell` automatically in the future. Please pass the result to `transformed_cell` argument and any exception that happen during thetransform in `preprocessing_exc_tuple` in IPython 7.17 and above.\n",
            "  and should_run_async(code)\n"
          ]
        },
        {
          "output_type": "execute_result",
          "data": {
            "text/plain": [
              "         CHROM      POS                    SEQ REF_in_wMel ALT_in_wMel  \\\n",
              "0   CP046924.1    10300  GGTCAATATT.TAAATAACAC           T         G,N   \n",
              "1   CP046924.1    21801  ATTTGTCTAA.CATTGGTAGG           C           T   \n",
              "2   CP046924.1    25451  GACTAGAATT.GGAATCTGTT           G           A   \n",
              "3   CP046924.1    26718  ACTTGGCTTT.GAGTATGCCA           G           A   \n",
              "4   CP046924.1    69121  TGGGGAACAG.ACCTTTTTAA           A         G,N   \n",
              "..         ...      ...                    ...         ...         ...   \n",
              "78  CP046924.1  1169393  ACACTTAAAG.CAAAAGGTCT           C           T   \n",
              "79  CP046924.1  1170910  AATATAAAGT.GATTTTCGAA           G           A   \n",
              "80  CP046924.1  1201655  CATAGTGGTT.ATGCAATTTA           A           G   \n",
              "81  CP046924.1  1203393  TAGCGGAAAA.GTGCTTGAAA           G         C,N   \n",
              "82  CP046924.1  1240463  GTTATGCTTT.CCAGATTCAA           C           T   \n",
              "\n",
              "        freq1      freq2  Unnamed: 7  RGS2_F4   REF   ALT      freq3  \\\n",
              "0    3.468697   4.049844         NaN      NaN   812    89  10.960591   \n",
              "1    0.330396   0.367647         NaN      NaN   953     0   0.000000   \n",
              "2   11.754685  10.648148         NaN      NaN   276    90  32.608696   \n",
              "3   12.142857  12.621359         NaN      NaN   381   132  34.645669   \n",
              "4   11.903425  10.211095         NaN      NaN  9814  3178  32.382311   \n",
              "..        ...        ...         ...      ...   ...   ...        ...   \n",
              "78   0.625000   0.455789         NaN      NaN  1150    18   1.565217   \n",
              "79   1.477833   1.260912         NaN      NaN   847    25   2.951594   \n",
              "80   0.897480   0.888889         NaN      NaN  8104   146   1.801579   \n",
              "81   0.655308   0.742268         NaN      NaN  3868    49   1.266805   \n",
              "82   4.148871   3.285871         NaN      NaN  1063     0   0.000000   \n",
              "\n",
              "    Barcode 65  REF.1  ALT.1      freq4  \n",
              "0          NaN    579     35   6.044905  \n",
              "1          NaN   1924      6   0.311850  \n",
              "2          NaN    227     48  21.145374  \n",
              "3          NaN    216     50  23.148148  \n",
              "4          NaN  17735   5532  31.192557  \n",
              "..         ...    ...    ...        ...  \n",
              "78         NaN   3087     36   1.166181  \n",
              "79         NaN   2971     67   2.255133  \n",
              "80         NaN  21145    318   1.503902  \n",
              "81         NaN  22950    307   1.337691  \n",
              "82         NaN   2819      9   0.319262  \n",
              "\n",
              "[83 rows x 16 columns]"
            ],
            "text/html": [
              "\n",
              "  <div id=\"df-7ea506bc-ff94-4f6b-8436-891062243b9c\" class=\"colab-df-container\">\n",
              "    <div>\n",
              "<style scoped>\n",
              "    .dataframe tbody tr th:only-of-type {\n",
              "        vertical-align: middle;\n",
              "    }\n",
              "\n",
              "    .dataframe tbody tr th {\n",
              "        vertical-align: top;\n",
              "    }\n",
              "\n",
              "    .dataframe thead th {\n",
              "        text-align: right;\n",
              "    }\n",
              "</style>\n",
              "<table border=\"1\" class=\"dataframe\">\n",
              "  <thead>\n",
              "    <tr style=\"text-align: right;\">\n",
              "      <th></th>\n",
              "      <th>CHROM</th>\n",
              "      <th>POS</th>\n",
              "      <th>SEQ</th>\n",
              "      <th>REF_in_wMel</th>\n",
              "      <th>ALT_in_wMel</th>\n",
              "      <th>freq1</th>\n",
              "      <th>freq2</th>\n",
              "      <th>Unnamed: 7</th>\n",
              "      <th>RGS2_F4</th>\n",
              "      <th>REF</th>\n",
              "      <th>ALT</th>\n",
              "      <th>freq3</th>\n",
              "      <th>Barcode 65</th>\n",
              "      <th>REF.1</th>\n",
              "      <th>ALT.1</th>\n",
              "      <th>freq4</th>\n",
              "    </tr>\n",
              "  </thead>\n",
              "  <tbody>\n",
              "    <tr>\n",
              "      <th>0</th>\n",
              "      <td>CP046924.1</td>\n",
              "      <td>10300</td>\n",
              "      <td>GGTCAATATT.TAAATAACAC</td>\n",
              "      <td>T</td>\n",
              "      <td>G,N</td>\n",
              "      <td>3.468697</td>\n",
              "      <td>4.049844</td>\n",
              "      <td>NaN</td>\n",
              "      <td>NaN</td>\n",
              "      <td>812</td>\n",
              "      <td>89</td>\n",
              "      <td>10.960591</td>\n",
              "      <td>NaN</td>\n",
              "      <td>579</td>\n",
              "      <td>35</td>\n",
              "      <td>6.044905</td>\n",
              "    </tr>\n",
              "    <tr>\n",
              "      <th>1</th>\n",
              "      <td>CP046924.1</td>\n",
              "      <td>21801</td>\n",
              "      <td>ATTTGTCTAA.CATTGGTAGG</td>\n",
              "      <td>C</td>\n",
              "      <td>T</td>\n",
              "      <td>0.330396</td>\n",
              "      <td>0.367647</td>\n",
              "      <td>NaN</td>\n",
              "      <td>NaN</td>\n",
              "      <td>953</td>\n",
              "      <td>0</td>\n",
              "      <td>0.000000</td>\n",
              "      <td>NaN</td>\n",
              "      <td>1924</td>\n",
              "      <td>6</td>\n",
              "      <td>0.311850</td>\n",
              "    </tr>\n",
              "    <tr>\n",
              "      <th>2</th>\n",
              "      <td>CP046924.1</td>\n",
              "      <td>25451</td>\n",
              "      <td>GACTAGAATT.GGAATCTGTT</td>\n",
              "      <td>G</td>\n",
              "      <td>A</td>\n",
              "      <td>11.754685</td>\n",
              "      <td>10.648148</td>\n",
              "      <td>NaN</td>\n",
              "      <td>NaN</td>\n",
              "      <td>276</td>\n",
              "      <td>90</td>\n",
              "      <td>32.608696</td>\n",
              "      <td>NaN</td>\n",
              "      <td>227</td>\n",
              "      <td>48</td>\n",
              "      <td>21.145374</td>\n",
              "    </tr>\n",
              "    <tr>\n",
              "      <th>3</th>\n",
              "      <td>CP046924.1</td>\n",
              "      <td>26718</td>\n",
              "      <td>ACTTGGCTTT.GAGTATGCCA</td>\n",
              "      <td>G</td>\n",
              "      <td>A</td>\n",
              "      <td>12.142857</td>\n",
              "      <td>12.621359</td>\n",
              "      <td>NaN</td>\n",
              "      <td>NaN</td>\n",
              "      <td>381</td>\n",
              "      <td>132</td>\n",
              "      <td>34.645669</td>\n",
              "      <td>NaN</td>\n",
              "      <td>216</td>\n",
              "      <td>50</td>\n",
              "      <td>23.148148</td>\n",
              "    </tr>\n",
              "    <tr>\n",
              "      <th>4</th>\n",
              "      <td>CP046924.1</td>\n",
              "      <td>69121</td>\n",
              "      <td>TGGGGAACAG.ACCTTTTTAA</td>\n",
              "      <td>A</td>\n",
              "      <td>G,N</td>\n",
              "      <td>11.903425</td>\n",
              "      <td>10.211095</td>\n",
              "      <td>NaN</td>\n",
              "      <td>NaN</td>\n",
              "      <td>9814</td>\n",
              "      <td>3178</td>\n",
              "      <td>32.382311</td>\n",
              "      <td>NaN</td>\n",
              "      <td>17735</td>\n",
              "      <td>5532</td>\n",
              "      <td>31.192557</td>\n",
              "    </tr>\n",
              "    <tr>\n",
              "      <th>...</th>\n",
              "      <td>...</td>\n",
              "      <td>...</td>\n",
              "      <td>...</td>\n",
              "      <td>...</td>\n",
              "      <td>...</td>\n",
              "      <td>...</td>\n",
              "      <td>...</td>\n",
              "      <td>...</td>\n",
              "      <td>...</td>\n",
              "      <td>...</td>\n",
              "      <td>...</td>\n",
              "      <td>...</td>\n",
              "      <td>...</td>\n",
              "      <td>...</td>\n",
              "      <td>...</td>\n",
              "      <td>...</td>\n",
              "    </tr>\n",
              "    <tr>\n",
              "      <th>78</th>\n",
              "      <td>CP046924.1</td>\n",
              "      <td>1169393</td>\n",
              "      <td>ACACTTAAAG.CAAAAGGTCT</td>\n",
              "      <td>C</td>\n",
              "      <td>T</td>\n",
              "      <td>0.625000</td>\n",
              "      <td>0.455789</td>\n",
              "      <td>NaN</td>\n",
              "      <td>NaN</td>\n",
              "      <td>1150</td>\n",
              "      <td>18</td>\n",
              "      <td>1.565217</td>\n",
              "      <td>NaN</td>\n",
              "      <td>3087</td>\n",
              "      <td>36</td>\n",
              "      <td>1.166181</td>\n",
              "    </tr>\n",
              "    <tr>\n",
              "      <th>79</th>\n",
              "      <td>CP046924.1</td>\n",
              "      <td>1170910</td>\n",
              "      <td>AATATAAAGT.GATTTTCGAA</td>\n",
              "      <td>G</td>\n",
              "      <td>A</td>\n",
              "      <td>1.477833</td>\n",
              "      <td>1.260912</td>\n",
              "      <td>NaN</td>\n",
              "      <td>NaN</td>\n",
              "      <td>847</td>\n",
              "      <td>25</td>\n",
              "      <td>2.951594</td>\n",
              "      <td>NaN</td>\n",
              "      <td>2971</td>\n",
              "      <td>67</td>\n",
              "      <td>2.255133</td>\n",
              "    </tr>\n",
              "    <tr>\n",
              "      <th>80</th>\n",
              "      <td>CP046924.1</td>\n",
              "      <td>1201655</td>\n",
              "      <td>CATAGTGGTT.ATGCAATTTA</td>\n",
              "      <td>A</td>\n",
              "      <td>G</td>\n",
              "      <td>0.897480</td>\n",
              "      <td>0.888889</td>\n",
              "      <td>NaN</td>\n",
              "      <td>NaN</td>\n",
              "      <td>8104</td>\n",
              "      <td>146</td>\n",
              "      <td>1.801579</td>\n",
              "      <td>NaN</td>\n",
              "      <td>21145</td>\n",
              "      <td>318</td>\n",
              "      <td>1.503902</td>\n",
              "    </tr>\n",
              "    <tr>\n",
              "      <th>81</th>\n",
              "      <td>CP046924.1</td>\n",
              "      <td>1203393</td>\n",
              "      <td>TAGCGGAAAA.GTGCTTGAAA</td>\n",
              "      <td>G</td>\n",
              "      <td>C,N</td>\n",
              "      <td>0.655308</td>\n",
              "      <td>0.742268</td>\n",
              "      <td>NaN</td>\n",
              "      <td>NaN</td>\n",
              "      <td>3868</td>\n",
              "      <td>49</td>\n",
              "      <td>1.266805</td>\n",
              "      <td>NaN</td>\n",
              "      <td>22950</td>\n",
              "      <td>307</td>\n",
              "      <td>1.337691</td>\n",
              "    </tr>\n",
              "    <tr>\n",
              "      <th>82</th>\n",
              "      <td>CP046924.1</td>\n",
              "      <td>1240463</td>\n",
              "      <td>GTTATGCTTT.CCAGATTCAA</td>\n",
              "      <td>C</td>\n",
              "      <td>T</td>\n",
              "      <td>4.148871</td>\n",
              "      <td>3.285871</td>\n",
              "      <td>NaN</td>\n",
              "      <td>NaN</td>\n",
              "      <td>1063</td>\n",
              "      <td>0</td>\n",
              "      <td>0.000000</td>\n",
              "      <td>NaN</td>\n",
              "      <td>2819</td>\n",
              "      <td>9</td>\n",
              "      <td>0.319262</td>\n",
              "    </tr>\n",
              "  </tbody>\n",
              "</table>\n",
              "<p>83 rows × 16 columns</p>\n",
              "</div>\n",
              "    <div class=\"colab-df-buttons\">\n",
              "\n",
              "  <div class=\"colab-df-container\">\n",
              "    <button class=\"colab-df-convert\" onclick=\"convertToInteractive('df-7ea506bc-ff94-4f6b-8436-891062243b9c')\"\n",
              "            title=\"Convert this dataframe to an interactive table.\"\n",
              "            style=\"display:none;\">\n",
              "\n",
              "  <svg xmlns=\"http://www.w3.org/2000/svg\" height=\"24px\" viewBox=\"0 -960 960 960\">\n",
              "    <path d=\"M120-120v-720h720v720H120Zm60-500h600v-160H180v160Zm220 220h160v-160H400v160Zm0 220h160v-160H400v160ZM180-400h160v-160H180v160Zm440 0h160v-160H620v160ZM180-180h160v-160H180v160Zm440 0h160v-160H620v160Z\"/>\n",
              "  </svg>\n",
              "    </button>\n",
              "\n",
              "  <style>\n",
              "    .colab-df-container {\n",
              "      display:flex;\n",
              "      gap: 12px;\n",
              "    }\n",
              "\n",
              "    .colab-df-convert {\n",
              "      background-color: #E8F0FE;\n",
              "      border: none;\n",
              "      border-radius: 50%;\n",
              "      cursor: pointer;\n",
              "      display: none;\n",
              "      fill: #1967D2;\n",
              "      height: 32px;\n",
              "      padding: 0 0 0 0;\n",
              "      width: 32px;\n",
              "    }\n",
              "\n",
              "    .colab-df-convert:hover {\n",
              "      background-color: #E2EBFA;\n",
              "      box-shadow: 0px 1px 2px rgba(60, 64, 67, 0.3), 0px 1px 3px 1px rgba(60, 64, 67, 0.15);\n",
              "      fill: #174EA6;\n",
              "    }\n",
              "\n",
              "    .colab-df-buttons div {\n",
              "      margin-bottom: 4px;\n",
              "    }\n",
              "\n",
              "    [theme=dark] .colab-df-convert {\n",
              "      background-color: #3B4455;\n",
              "      fill: #D2E3FC;\n",
              "    }\n",
              "\n",
              "    [theme=dark] .colab-df-convert:hover {\n",
              "      background-color: #434B5C;\n",
              "      box-shadow: 0px 1px 3px 1px rgba(0, 0, 0, 0.15);\n",
              "      filter: drop-shadow(0px 1px 2px rgba(0, 0, 0, 0.3));\n",
              "      fill: #FFFFFF;\n",
              "    }\n",
              "  </style>\n",
              "\n",
              "    <script>\n",
              "      const buttonEl =\n",
              "        document.querySelector('#df-7ea506bc-ff94-4f6b-8436-891062243b9c button.colab-df-convert');\n",
              "      buttonEl.style.display =\n",
              "        google.colab.kernel.accessAllowed ? 'block' : 'none';\n",
              "\n",
              "      async function convertToInteractive(key) {\n",
              "        const element = document.querySelector('#df-7ea506bc-ff94-4f6b-8436-891062243b9c');\n",
              "        const dataTable =\n",
              "          await google.colab.kernel.invokeFunction('convertToInteractive',\n",
              "                                                    [key], {});\n",
              "        if (!dataTable) return;\n",
              "\n",
              "        const docLinkHtml = 'Like what you see? Visit the ' +\n",
              "          '<a target=\"_blank\" href=https://colab.research.google.com/notebooks/data_table.ipynb>data table notebook</a>'\n",
              "          + ' to learn more about interactive tables.';\n",
              "        element.innerHTML = '';\n",
              "        dataTable['output_type'] = 'display_data';\n",
              "        await google.colab.output.renderOutput(dataTable, element);\n",
              "        const docLink = document.createElement('div');\n",
              "        docLink.innerHTML = docLinkHtml;\n",
              "        element.appendChild(docLink);\n",
              "      }\n",
              "    </script>\n",
              "  </div>\n",
              "\n",
              "\n",
              "<div id=\"df-5e7a83c6-fd01-455b-bb7e-8481ca611532\">\n",
              "  <button class=\"colab-df-quickchart\" onclick=\"quickchart('df-5e7a83c6-fd01-455b-bb7e-8481ca611532')\"\n",
              "            title=\"Suggest charts.\"\n",
              "            style=\"display:none;\">\n",
              "\n",
              "<svg xmlns=\"http://www.w3.org/2000/svg\" height=\"24px\"viewBox=\"0 0 24 24\"\n",
              "     width=\"24px\">\n",
              "    <g>\n",
              "        <path d=\"M19 3H5c-1.1 0-2 .9-2 2v14c0 1.1.9 2 2 2h14c1.1 0 2-.9 2-2V5c0-1.1-.9-2-2-2zM9 17H7v-7h2v7zm4 0h-2V7h2v10zm4 0h-2v-4h2v4z\"/>\n",
              "    </g>\n",
              "</svg>\n",
              "  </button>\n",
              "\n",
              "<style>\n",
              "  .colab-df-quickchart {\n",
              "      --bg-color: #E8F0FE;\n",
              "      --fill-color: #1967D2;\n",
              "      --hover-bg-color: #E2EBFA;\n",
              "      --hover-fill-color: #174EA6;\n",
              "      --disabled-fill-color: #AAA;\n",
              "      --disabled-bg-color: #DDD;\n",
              "  }\n",
              "\n",
              "  [theme=dark] .colab-df-quickchart {\n",
              "      --bg-color: #3B4455;\n",
              "      --fill-color: #D2E3FC;\n",
              "      --hover-bg-color: #434B5C;\n",
              "      --hover-fill-color: #FFFFFF;\n",
              "      --disabled-bg-color: #3B4455;\n",
              "      --disabled-fill-color: #666;\n",
              "  }\n",
              "\n",
              "  .colab-df-quickchart {\n",
              "    background-color: var(--bg-color);\n",
              "    border: none;\n",
              "    border-radius: 50%;\n",
              "    cursor: pointer;\n",
              "    display: none;\n",
              "    fill: var(--fill-color);\n",
              "    height: 32px;\n",
              "    padding: 0;\n",
              "    width: 32px;\n",
              "  }\n",
              "\n",
              "  .colab-df-quickchart:hover {\n",
              "    background-color: var(--hover-bg-color);\n",
              "    box-shadow: 0 1px 2px rgba(60, 64, 67, 0.3), 0 1px 3px 1px rgba(60, 64, 67, 0.15);\n",
              "    fill: var(--button-hover-fill-color);\n",
              "  }\n",
              "\n",
              "  .colab-df-quickchart-complete:disabled,\n",
              "  .colab-df-quickchart-complete:disabled:hover {\n",
              "    background-color: var(--disabled-bg-color);\n",
              "    fill: var(--disabled-fill-color);\n",
              "    box-shadow: none;\n",
              "  }\n",
              "\n",
              "  .colab-df-spinner {\n",
              "    border: 2px solid var(--fill-color);\n",
              "    border-color: transparent;\n",
              "    border-bottom-color: var(--fill-color);\n",
              "    animation:\n",
              "      spin 1s steps(1) infinite;\n",
              "  }\n",
              "\n",
              "  @keyframes spin {\n",
              "    0% {\n",
              "      border-color: transparent;\n",
              "      border-bottom-color: var(--fill-color);\n",
              "      border-left-color: var(--fill-color);\n",
              "    }\n",
              "    20% {\n",
              "      border-color: transparent;\n",
              "      border-left-color: var(--fill-color);\n",
              "      border-top-color: var(--fill-color);\n",
              "    }\n",
              "    30% {\n",
              "      border-color: transparent;\n",
              "      border-left-color: var(--fill-color);\n",
              "      border-top-color: var(--fill-color);\n",
              "      border-right-color: var(--fill-color);\n",
              "    }\n",
              "    40% {\n",
              "      border-color: transparent;\n",
              "      border-right-color: var(--fill-color);\n",
              "      border-top-color: var(--fill-color);\n",
              "    }\n",
              "    60% {\n",
              "      border-color: transparent;\n",
              "      border-right-color: var(--fill-color);\n",
              "    }\n",
              "    80% {\n",
              "      border-color: transparent;\n",
              "      border-right-color: var(--fill-color);\n",
              "      border-bottom-color: var(--fill-color);\n",
              "    }\n",
              "    90% {\n",
              "      border-color: transparent;\n",
              "      border-bottom-color: var(--fill-color);\n",
              "    }\n",
              "  }\n",
              "</style>\n",
              "\n",
              "  <script>\n",
              "    async function quickchart(key) {\n",
              "      const quickchartButtonEl =\n",
              "        document.querySelector('#' + key + ' button');\n",
              "      quickchartButtonEl.disabled = true;  // To prevent multiple clicks.\n",
              "      quickchartButtonEl.classList.add('colab-df-spinner');\n",
              "      try {\n",
              "        const charts = await google.colab.kernel.invokeFunction(\n",
              "            'suggestCharts', [key], {});\n",
              "      } catch (error) {\n",
              "        console.error('Error during call to suggestCharts:', error);\n",
              "      }\n",
              "      quickchartButtonEl.classList.remove('colab-df-spinner');\n",
              "      quickchartButtonEl.classList.add('colab-df-quickchart-complete');\n",
              "    }\n",
              "    (() => {\n",
              "      let quickchartButtonEl =\n",
              "        document.querySelector('#df-5e7a83c6-fd01-455b-bb7e-8481ca611532 button');\n",
              "      quickchartButtonEl.style.display =\n",
              "        google.colab.kernel.accessAllowed ? 'block' : 'none';\n",
              "    })();\n",
              "  </script>\n",
              "</div>\n",
              "    </div>\n",
              "  </div>\n"
            ]
          },
          "metadata": {},
          "execution_count": 312
        }
      ]
    },
    {
      "cell_type": "markdown",
      "source": [
        "### Freebayes"
      ],
      "metadata": {
        "id": "52unSR6jCc8U"
      }
    },
    {
      "cell_type": "markdown",
      "source": [
        "Illumina"
      ],
      "metadata": {
        "id": "zzGdCtBQCf88"
      }
    },
    {
      "cell_type": "code",
      "source": [
        "ILLUMINA_F=allel.read_vcf('Illumina_Freebayes_00075.vcf')\n",
        "NANOPORE_F=allel.read_vcf('Nanopore_Freebayes_00075.vcf')\n"
      ],
      "metadata": {
        "id": "sbLOAtusCdFl",
        "colab": {
          "base_uri": "https://localhost:8080/"
        },
        "outputId": "c102f1f7-5ec6-422a-c742-2d1fe72bfe9e"
      },
      "execution_count": 313,
      "outputs": [
        {
          "output_type": "stream",
          "name": "stderr",
          "text": [
            "/usr/local/lib/python3.10/dist-packages/ipykernel/ipkernel.py:283: DeprecationWarning: `should_run_async` will not call `transform_cell` automatically in the future. Please pass the result to `transformed_cell` argument and any exception that happen during thetransform in `preprocessing_exc_tuple` in IPython 7.17 and above.\n",
            "  and should_run_async(code)\n"
          ]
        }
      ]
    },
    {
      "cell_type": "markdown",
      "source": [
        "Nanopore"
      ],
      "metadata": {
        "id": "hnZd9kvAep8t"
      }
    },
    {
      "cell_type": "code",
      "source": [
        "positions_Nanopore = NANOPORE_F['variants/POS']\n",
        "positions_Nanopore"
      ],
      "metadata": {
        "id": "3XJ_x6cVeCY7",
        "colab": {
          "base_uri": "https://localhost:8080/"
        },
        "outputId": "b329b3a2-8ee9-4707-ba48-c80f4af8c790"
      },
      "execution_count": 314,
      "outputs": [
        {
          "output_type": "stream",
          "name": "stderr",
          "text": [
            "/usr/local/lib/python3.10/dist-packages/ipykernel/ipkernel.py:283: DeprecationWarning: `should_run_async` will not call `transform_cell` automatically in the future. Please pass the result to `transformed_cell` argument and any exception that happen during thetransform in `preprocessing_exc_tuple` in IPython 7.17 and above.\n",
            "  and should_run_async(code)\n"
          ]
        },
        {
          "output_type": "execute_result",
          "data": {
            "text/plain": [
              "array([ 10022,  10025,  10031, ..., 398708, 398710, 398711], dtype=int32)"
            ]
          },
          "metadata": {},
          "execution_count": 314
        }
      ]
    },
    {
      "cell_type": "code",
      "source": [
        "\n",
        "positions_Freebayes = ILLUMINA_F['variants/POS']\n",
        "positions_Freebayes\n",
        "\n"
      ],
      "metadata": {
        "id": "QpxfNjfSH-cK",
        "colab": {
          "base_uri": "https://localhost:8080/"
        },
        "outputId": "8c9676c7-0db7-49c0-bb9a-34caf188fddb"
      },
      "execution_count": 315,
      "outputs": [
        {
          "output_type": "stream",
          "name": "stderr",
          "text": [
            "/usr/local/lib/python3.10/dist-packages/ipykernel/ipkernel.py:283: DeprecationWarning: `should_run_async` will not call `transform_cell` automatically in the future. Please pass the result to `transformed_cell` argument and any exception that happen during thetransform in `preprocessing_exc_tuple` in IPython 7.17 and above.\n",
            "  and should_run_async(code)\n"
          ]
        },
        {
          "output_type": "execute_result",
          "data": {
            "text/plain": [
              "array([  10068,   10079,   10082, ..., 1266577, 1266742, 1266775],\n",
              "      dtype=int32)"
            ]
          },
          "metadata": {},
          "execution_count": 315
        }
      ]
    },
    {
      "cell_type": "code",
      "source": [
        "print(len(positions_Freebayes))"
      ],
      "metadata": {
        "id": "GNSCZmSTF18x",
        "colab": {
          "base_uri": "https://localhost:8080/"
        },
        "outputId": "c45edb3f-4691-42d0-f851-5d63480d5cc6"
      },
      "execution_count": 316,
      "outputs": [
        {
          "output_type": "stream",
          "name": "stdout",
          "text": [
            "10954\n"
          ]
        },
        {
          "output_type": "stream",
          "name": "stderr",
          "text": [
            "/usr/local/lib/python3.10/dist-packages/ipykernel/ipkernel.py:283: DeprecationWarning: `should_run_async` will not call `transform_cell` automatically in the future. Please pass the result to `transformed_cell` argument and any exception that happen during thetransform in `preprocessing_exc_tuple` in IPython 7.17 and above.\n",
            "  and should_run_async(code)\n"
          ]
        }
      ]
    },
    {
      "cell_type": "code",
      "source": [
        "print(len(positions_Nanopore))"
      ],
      "metadata": {
        "id": "STuj3-l6eS_g",
        "colab": {
          "base_uri": "https://localhost:8080/"
        },
        "outputId": "06f90a8a-5656-48a3-f9f9-3ba27fba2aae"
      },
      "execution_count": 317,
      "outputs": [
        {
          "output_type": "stream",
          "name": "stdout",
          "text": [
            "18163\n"
          ]
        },
        {
          "output_type": "stream",
          "name": "stderr",
          "text": [
            "/usr/local/lib/python3.10/dist-packages/ipykernel/ipkernel.py:283: DeprecationWarning: `should_run_async` will not call `transform_cell` automatically in the future. Please pass the result to `transformed_cell` argument and any exception that happen during thetransform in `preprocessing_exc_tuple` in IPython 7.17 and above.\n",
            "  and should_run_async(code)\n"
          ]
        }
      ]
    },
    {
      "cell_type": "markdown",
      "source": [
        "Parse using aux function"
      ],
      "metadata": {
        "id": "yGEtpOQTChj7"
      }
    },
    {
      "cell_type": "code",
      "source": [
        "## define which columns to use for features\n",
        "info_cols_all={'AB':int,'ABP':int, 'AC':int, 'AF':int , 'AN':int, 'AO':int,\n",
        "               'CIGAR':str, 'DP':int , 'DPB':int, 'DPRA':int, 'EPP':int, 'EPPR':int, 'GTI':int, 'LEN':int, 'MEANALT':int, 'MQM':int,\n",
        "               'MQMR':int, 'NS':int,'NUMALT':int, 'ODDS':int, 'PAIRED':int,'PAIREDR':int,'PAO':int, 'PQA':int, 'PQR':int, 'PRO':int, 'PRO':int, 'QA':int, 'QR':int , 'RO':int\n",
        "               , 'RPL':int, 'RPP':int, 'RPPR':int, 'RUN':int, 'SAF':int, 'SAP':int, 'SAR':int, 'SRF':int, 'SRP':int, 'SRR':int}\n",
        "\n",
        "info_cols_selected={'AO':int, 'DP':int , 'DPB':int, 'EPP':int, 'EPPR':int, 'MQM':int,\n",
        "               'MQMR':int, 'ODDS':int, 'PAIRED':int,'PAIREDR':int, 'QA':int, 'QR':int , 'RO':int\n",
        "               , 'RPL':int, 'RPP':int, 'RPPR':int, 'SAF':int, 'SAP':int, 'SAR':int, 'SRF':int, 'SRP':int, 'SRR':int}\n",
        "\n",
        "info_cols_min={'DP':int}\n"
      ],
      "metadata": {
        "id": "xyuN8GNeilw1",
        "colab": {
          "base_uri": "https://localhost:8080/"
        },
        "outputId": "eeda3abe-ff7a-481a-c0c9-35bc0ae3f500"
      },
      "execution_count": 318,
      "outputs": [
        {
          "output_type": "stream",
          "name": "stderr",
          "text": [
            "/usr/local/lib/python3.10/dist-packages/ipykernel/ipkernel.py:283: DeprecationWarning: `should_run_async` will not call `transform_cell` automatically in the future. Please pass the result to `transformed_cell` argument and any exception that happen during thetransform in `preprocessing_exc_tuple` in IPython 7.17 and above.\n",
            "  and should_run_async(code)\n"
          ]
        }
      ]
    },
    {
      "cell_type": "code",
      "source": [
        "\n",
        "\n",
        "vcf_df_Ill_F = parse_vcf2('Illumina_Freebayes_00075.vcf', info_cols=info_cols_min, nrows=20000)\n",
        "\n",
        "print(len(vcf_df_Ill_F))"
      ],
      "metadata": {
        "id": "5MG0KdrseyVe",
        "colab": {
          "base_uri": "https://localhost:8080/"
        },
        "outputId": "cab1c735-e2ba-40f4-ca58-5f02c1600eb2"
      },
      "execution_count": 319,
      "outputs": [
        {
          "output_type": "stream",
          "name": "stderr",
          "text": [
            "/usr/local/lib/python3.10/dist-packages/ipykernel/ipkernel.py:283: DeprecationWarning: `should_run_async` will not call `transform_cell` automatically in the future. Please pass the result to `transformed_cell` argument and any exception that happen during thetransform in `preprocessing_exc_tuple` in IPython 7.17 and above.\n",
            "  and should_run_async(code)\n"
          ]
        },
        {
          "output_type": "stream",
          "name": "stdout",
          "text": [
            "10954\n"
          ]
        }
      ]
    },
    {
      "cell_type": "code",
      "source": [
        "vcf_df_Nan_F = parse_vcf2('Nanopore_Freebayes_00075.vcf', info_cols=info_cols_min, nrows=20000)\n",
        "\n",
        "print(len(vcf_df_Nan_F))"
      ],
      "metadata": {
        "id": "OQs53M5m4hj_",
        "colab": {
          "base_uri": "https://localhost:8080/"
        },
        "outputId": "8502ae62-a8c4-44f8-c977-6a3450f41b4c"
      },
      "execution_count": 320,
      "outputs": [
        {
          "output_type": "stream",
          "name": "stderr",
          "text": [
            "/usr/local/lib/python3.10/dist-packages/ipykernel/ipkernel.py:283: DeprecationWarning: `should_run_async` will not call `transform_cell` automatically in the future. Please pass the result to `transformed_cell` argument and any exception that happen during thetransform in `preprocessing_exc_tuple` in IPython 7.17 and above.\n",
            "  and should_run_async(code)\n"
          ]
        },
        {
          "output_type": "stream",
          "name": "stdout",
          "text": [
            "18163\n"
          ]
        }
      ]
    },
    {
      "cell_type": "markdown",
      "source": [
        "### Mutect individual"
      ],
      "metadata": {
        "id": "3kCo_O9EA7JJ"
      }
    },
    {
      "cell_type": "code",
      "source": [
        "def parse_vcf_mutect(fname, info_cols=None, nrows=None):\n",
        "    \"\"\"Parse a VCF file into a dataframe.\n",
        "    The INFO column is parsed into a dictionary with specified dtype in distinct column.\n",
        "    nrows: how many rows to read from the start of the header.\n",
        "    Example:\n",
        "    vcf_df_GT = parse_vcf('test.vcf', info_cols={'DP': int, 'CIGAR': str}, nrows=1000)\n",
        "    \"\"\"\n",
        "    header = \"CHROM POS ID REF ALT QUAL FILTER INFO FORMAT GT\".split()\n",
        "    vcf = pd.read_csv(\n",
        "        fname, delimiter='\\t', comment='#', names=header, nrows=nrows)\n",
        "\n",
        "    def parse_info(info_str):\n",
        "        info_dict = {}\n",
        "        for item in info_str.split(\";\"):\n",
        "            parts = item.split(\"=\")\n",
        "            if len(parts) == 2:\n",
        "                key, value = parts\n",
        "            else:\n",
        "                key = parts[0]\n",
        "                value = \"\"\n",
        "            info_dict[key] = value\n",
        "        return info_dict\n",
        "\n",
        "    vcf['INFO'] = vcf['INFO'].apply(parse_info)\n",
        "\n",
        "    if info_cols is not None:\n",
        "        for field, dtype in info_cols.items():\n",
        "            try:\n",
        "                vcf[field] = vcf['INFO'].apply(lambda x: x.get(field, None))\n",
        "                vcf[field] = vcf[field].astype(dtype)\n",
        "            except:\n",
        "                pass\n",
        "    return vcf\n"
      ],
      "metadata": {
        "id": "H8hh2f_CBMY2",
        "colab": {
          "base_uri": "https://localhost:8080/"
        },
        "outputId": "6b9497f7-456f-4416-fd9f-05db3e578ada"
      },
      "execution_count": 322,
      "outputs": [
        {
          "output_type": "stream",
          "name": "stderr",
          "text": [
            "/usr/local/lib/python3.10/dist-packages/ipykernel/ipkernel.py:283: DeprecationWarning: `should_run_async` will not call `transform_cell` automatically in the future. Please pass the result to `transformed_cell` argument and any exception that happen during thetransform in `preprocessing_exc_tuple` in IPython 7.17 and above.\n",
            "  and should_run_async(code)\n"
          ]
        }
      ]
    },
    {
      "cell_type": "code",
      "source": [
        "info_cols_min={'TLOD':int}"
      ],
      "metadata": {
        "id": "zQID8xV1MgAE",
        "colab": {
          "base_uri": "https://localhost:8080/"
        },
        "outputId": "7805ccf1-c6f9-41a4-cbf3-344bb6afa993"
      },
      "execution_count": 323,
      "outputs": [
        {
          "output_type": "stream",
          "name": "stderr",
          "text": [
            "/usr/local/lib/python3.10/dist-packages/ipykernel/ipkernel.py:283: DeprecationWarning: `should_run_async` will not call `transform_cell` automatically in the future. Please pass the result to `transformed_cell` argument and any exception that happen during thetransform in `preprocessing_exc_tuple` in IPython 7.17 and above.\n",
            "  and should_run_async(code)\n"
          ]
        }
      ]
    },
    {
      "cell_type": "code",
      "source": [
        "vcf_df_Ill_M_L1 = parse_vcf_mutect('Illumina_Mutect_L1_S5.vcf', info_cols=None, nrows=20000)\n",
        "vcf_df_Ill_M_L2 = parse_vcf_mutect('Illumina_Mutect_L2_S6.vcf', info_cols=None, nrows=20000)\n",
        "\n",
        "\n",
        "#vcf_df_Ill_M"
      ],
      "metadata": {
        "id": "0h_ati8cA-fv",
        "colab": {
          "base_uri": "https://localhost:8080/"
        },
        "outputId": "ebf4402a-3622-4131-995c-555a766da495"
      },
      "execution_count": 324,
      "outputs": [
        {
          "output_type": "stream",
          "name": "stderr",
          "text": [
            "/usr/local/lib/python3.10/dist-packages/ipykernel/ipkernel.py:283: DeprecationWarning: `should_run_async` will not call `transform_cell` automatically in the future. Please pass the result to `transformed_cell` argument and any exception that happen during thetransform in `preprocessing_exc_tuple` in IPython 7.17 and above.\n",
            "  and should_run_async(code)\n"
          ]
        }
      ]
    },
    {
      "cell_type": "code",
      "source": [
        "vcf_df_Ill_M_L1 = parse_vcf_mutect('Illumina_Mutect_L1_S5.vcf', info_cols=None, nrows=20000)\n",
        "vcf_df_Ill_M_L2 = parse_vcf_mutect('Illumina_Mutect_L2_S6.vcf', info_cols=None, nrows=20000)\n",
        "vcf_df_Nan_M_L57 = parse_vcf_mutect('Nanopore_Mutect_barcode57.vcf', info_cols=None, nrows=20000)\n",
        "vcf_df_Nan_M_L65 = parse_vcf_mutect('Nanopore_Mutect_barcode65.vcf', info_cols=None, nrows=20000)"
      ],
      "metadata": {
        "id": "7qC0pkg_NbU6",
        "colab": {
          "base_uri": "https://localhost:8080/"
        },
        "outputId": "6f682f38-6b62-437b-c39f-ec824eb335e8"
      },
      "execution_count": 325,
      "outputs": [
        {
          "output_type": "stream",
          "name": "stderr",
          "text": [
            "/usr/local/lib/python3.10/dist-packages/ipykernel/ipkernel.py:283: DeprecationWarning: `should_run_async` will not call `transform_cell` automatically in the future. Please pass the result to `transformed_cell` argument and any exception that happen during thetransform in `preprocessing_exc_tuple` in IPython 7.17 and above.\n",
            "  and should_run_async(code)\n"
          ]
        }
      ]
    },
    {
      "cell_type": "markdown",
      "source": [
        "### Mutect (cancer vs normal) pipeline (GT vs irradiated)"
      ],
      "metadata": {
        "id": "pzMF5k6JP2dp"
      }
    },
    {
      "cell_type": "code",
      "source": [
        "def parse_vcf_mutect2(fname, info_cols=None, nrows=None):\n",
        "    \"\"\"Parse a VCF file into a dataframe.\n",
        "    The INFO column is parsed into a dictionary with specified dtype in distinct column.\n",
        "    nrows: how many rows to read from the start of the header.\n",
        "    Example:\n",
        "    vcf_df_GT = parse_vcf('test.vcf', info_cols={'DP': int, 'CIGAR': str}, nrows=1000)\n",
        "    \"\"\"\n",
        "    header = \"CHROM POS ID REF ALT QUAL FILTER INFO FORMAT GT GT2\".split()\n",
        "    vcf = pd.read_csv(\n",
        "        fname, delimiter='\\t', comment='#', names=header, nrows=nrows)\n",
        "\n",
        "    def parse_info(info_str):\n",
        "        info_dict = {}\n",
        "        for item in info_str.split(\";\"):\n",
        "            parts = item.split(\"=\")\n",
        "            if len(parts) == 2:\n",
        "                key, value = parts\n",
        "            else:\n",
        "                key = parts[0]\n",
        "                value = \"\"\n",
        "            info_dict[key] = value\n",
        "        return info_dict\n",
        "\n",
        "    vcf['INFO'] = vcf['INFO'].apply(parse_info)\n",
        "\n",
        "    if info_cols is not None:\n",
        "        for field, dtype in info_cols.items():\n",
        "            try:\n",
        "                vcf[field] = vcf['INFO'].apply(lambda x: x.get(field, None))\n",
        "                vcf[field] = vcf[field].astype(dtype)\n",
        "            except:\n",
        "                pass\n",
        "    return vcf\n"
      ],
      "metadata": {
        "id": "NptLHQYPP2n5",
        "colab": {
          "base_uri": "https://localhost:8080/"
        },
        "outputId": "35ac09be-97a4-4770-f0a2-3278171a1b46"
      },
      "execution_count": 326,
      "outputs": [
        {
          "output_type": "stream",
          "name": "stderr",
          "text": [
            "/usr/local/lib/python3.10/dist-packages/ipykernel/ipkernel.py:283: DeprecationWarning: `should_run_async` will not call `transform_cell` automatically in the future. Please pass the result to `transformed_cell` argument and any exception that happen during thetransform in `preprocessing_exc_tuple` in IPython 7.17 and above.\n",
            "  and should_run_async(code)\n"
          ]
        }
      ]
    },
    {
      "cell_type": "code",
      "source": [
        "vcf_df_Ill_M_TN = parse_vcf_mutect2('Illumina_Mutect_TN.vcf', info_cols=None, nrows=20000)\n",
        "vcf_df_Nan_M_TN = parse_vcf_mutect2('Nanopore_Mutect_TN.vcf', info_cols=None, nrows=20000)"
      ],
      "metadata": {
        "id": "gEzRE8kjQFWT",
        "colab": {
          "base_uri": "https://localhost:8080/"
        },
        "outputId": "38478d1e-3262-482c-ab0e-819dfde9c54e"
      },
      "execution_count": 346,
      "outputs": [
        {
          "output_type": "stream",
          "name": "stderr",
          "text": [
            "/usr/local/lib/python3.10/dist-packages/ipykernel/ipkernel.py:283: DeprecationWarning: `should_run_async` will not call `transform_cell` automatically in the future. Please pass the result to `transformed_cell` argument and any exception that happen during thetransform in `preprocessing_exc_tuple` in IPython 7.17 and above.\n",
            "  and should_run_async(code)\n"
          ]
        }
      ]
    },
    {
      "cell_type": "code",
      "source": [
        "vcf_df_Ill_M_TN"
      ],
      "metadata": {
        "colab": {
          "base_uri": "https://localhost:8080/",
          "height": 825
        },
        "id": "4efw3Bodl-F3",
        "outputId": "fa977872-1b1f-4549-e981-eed88a4e4064"
      },
      "execution_count": 348,
      "outputs": [
        {
          "output_type": "stream",
          "name": "stderr",
          "text": [
            "/usr/local/lib/python3.10/dist-packages/ipykernel/ipkernel.py:283: DeprecationWarning: `should_run_async` will not call `transform_cell` automatically in the future. Please pass the result to `transformed_cell` argument and any exception that happen during thetransform in `preprocessing_exc_tuple` in IPython 7.17 and above.\n",
            "  and should_run_async(code)\n"
          ]
        },
        {
          "output_type": "execute_result",
          "data": {
            "text/plain": [
              "          CHROM      POS ID REF ALT QUAL FILTER  \\\n",
              "0    CP046924.1    10300  .   T   G    .      .   \n",
              "1    CP046924.1    10907  .  TA   T    .      .   \n",
              "2    CP046924.1    18400  .   G   A    .      .   \n",
              "3    CP046924.1    19142  .   A   G    .      .   \n",
              "4    CP046924.1    19349  .   A   G    .      .   \n",
              "..          ...      ... ..  ..  ..  ...    ...   \n",
              "213  CP046924.1  1244642  .   G   A    .      .   \n",
              "214  CP046924.1  1244654  .   T   A    .      .   \n",
              "215  CP046924.1  1244656  .   T   C    .      .   \n",
              "216  CP046924.1  1244662  .   C   T    .      .   \n",
              "217  CP046924.1  1245708  .  GA   G    .      .   \n",
              "\n",
              "                                                  INFO  \\\n",
              "0    {'AS_SB_TABLE': '660,455|41,23', 'DP': '1220',...   \n",
              "1    {'AS_SB_TABLE': '212,550|8,18', 'DP': '823', '...   \n",
              "2    {'AS_SB_TABLE': '420,544|91,94', 'DP': '1199',...   \n",
              "3    {'AS_SB_TABLE': '578,673|3,6', 'DP': '1307', '...   \n",
              "4    {'AS_SB_TABLE': '695,529|18,24', 'DP': '1279',...   \n",
              "..                                                 ...   \n",
              "213  {'AS_SB_TABLE': '819,342|13,14', 'DP': '1191',...   \n",
              "214  {'AS_SB_TABLE': '911,365|12,33', 'DP': '1346',...   \n",
              "215  {'AS_SB_TABLE': '922,394|12,33', 'DP': '1361',...   \n",
              "216  {'AS_SB_TABLE': '887,344|12,12', 'DP': '1284',...   \n",
              "217  {'AS_SB_TABLE': '492,872|7,13', 'DP': '1468', ...   \n",
              "\n",
              "                                      FORMAT  \\\n",
              "0               GT:AD:AF:DP:F1R2:F2R1:FAD:SB   \n",
              "1               GT:AD:AF:DP:F1R2:F2R1:FAD:SB   \n",
              "2               GT:AD:AF:DP:F1R2:F2R1:FAD:SB   \n",
              "3               GT:AD:AF:DP:F1R2:F2R1:FAD:SB   \n",
              "4               GT:AD:AF:DP:F1R2:F2R1:FAD:SB   \n",
              "..                                       ...   \n",
              "213             GT:AD:AF:DP:F1R2:F2R1:FAD:SB   \n",
              "214  GT:AD:AF:DP:F1R2:F2R1:FAD:PGT:PID:PS:SB   \n",
              "215  GT:AD:AF:DP:F1R2:F2R1:FAD:PGT:PID:PS:SB   \n",
              "216  GT:AD:AF:DP:F1R2:F2R1:FAD:PGT:PID:PS:SB   \n",
              "217             GT:AD:AF:DP:F1R2:F2R1:FAD:SB   \n",
              "\n",
              "                                                    GT  \\\n",
              "0    0/0:589,0:2.273e-03:589:225,0:197,0:432,0:343,...   \n",
              "1    0/0:386,11:0.028:397:115,3:130,3:288,8:115,271...   \n",
              "2    0/0:642,0:1.809e-03:642:258,0:268,0:542,0:294,...   \n",
              "3    0/0:732,3:4.540e-03:735:250,0:238,2:596,2:345,...   \n",
              "4    0/0:733,5:8.119e-03:738:265,2:249,2:605,4:407,...   \n",
              "..                                                 ...   \n",
              "213  0/0:628,10:0.012:638:242,1:235,4:497,5:442,186...   \n",
              "214  0|0:690,18:0.026:708:257,3:262,0:557,14:0|1:12...   \n",
              "215  0|0:715,18:0.026:733:260,3:257,1:562,14:0|1:12...   \n",
              "216  0|0:673,8:9.228e-03:681:249,3:254,1:535,4:0|1:...   \n",
              "217  0/0:711,10:0.014:721:260,3:272,4:599,8:250,461...   \n",
              "\n",
              "                                                   GT2  \n",
              "0    0/1:526,64:0.117:590:208,25:181,24:399,52:317,...  \n",
              "1    0/1:376,15:0.031:391:123,4:123,6:291,10:97,279...  \n",
              "2    0/1:322,185:0.346:507:147,66:130,71:284,153:12...  \n",
              "3    0/1:519,6:0.013:525:189,1:167,4:430,5:233,286,2,4  \n",
              "4    0/1:491,37:0.070:528:169,13:172,17:414,30:288,...  \n",
              "..                                                 ...  \n",
              "213  0/1:533,17:0.022:550:217,7:209,2:445,9:377,156...  \n",
              "214  0|1:586,27:0.041:613:226,6:231,3:491,20:0|1:12...  \n",
              "215  0|1:601,27:0.040:628:227,6:226,3:499,20:0|1:12...  \n",
              "216  0|1:558,16:0.021:574:228,6:224,3:473,9:0|1:124...  \n",
              "217  0/1:653,10:0.017:663:241,3:257,6:560,9:242,411...  \n",
              "\n",
              "[218 rows x 11 columns]"
            ],
            "text/html": [
              "\n",
              "  <div id=\"df-9b2c707b-7a84-4961-9729-b123483725b2\" class=\"colab-df-container\">\n",
              "    <div>\n",
              "<style scoped>\n",
              "    .dataframe tbody tr th:only-of-type {\n",
              "        vertical-align: middle;\n",
              "    }\n",
              "\n",
              "    .dataframe tbody tr th {\n",
              "        vertical-align: top;\n",
              "    }\n",
              "\n",
              "    .dataframe thead th {\n",
              "        text-align: right;\n",
              "    }\n",
              "</style>\n",
              "<table border=\"1\" class=\"dataframe\">\n",
              "  <thead>\n",
              "    <tr style=\"text-align: right;\">\n",
              "      <th></th>\n",
              "      <th>CHROM</th>\n",
              "      <th>POS</th>\n",
              "      <th>ID</th>\n",
              "      <th>REF</th>\n",
              "      <th>ALT</th>\n",
              "      <th>QUAL</th>\n",
              "      <th>FILTER</th>\n",
              "      <th>INFO</th>\n",
              "      <th>FORMAT</th>\n",
              "      <th>GT</th>\n",
              "      <th>GT2</th>\n",
              "    </tr>\n",
              "  </thead>\n",
              "  <tbody>\n",
              "    <tr>\n",
              "      <th>0</th>\n",
              "      <td>CP046924.1</td>\n",
              "      <td>10300</td>\n",
              "      <td>.</td>\n",
              "      <td>T</td>\n",
              "      <td>G</td>\n",
              "      <td>.</td>\n",
              "      <td>.</td>\n",
              "      <td>{'AS_SB_TABLE': '660,455|41,23', 'DP': '1220',...</td>\n",
              "      <td>GT:AD:AF:DP:F1R2:F2R1:FAD:SB</td>\n",
              "      <td>0/0:589,0:2.273e-03:589:225,0:197,0:432,0:343,...</td>\n",
              "      <td>0/1:526,64:0.117:590:208,25:181,24:399,52:317,...</td>\n",
              "    </tr>\n",
              "    <tr>\n",
              "      <th>1</th>\n",
              "      <td>CP046924.1</td>\n",
              "      <td>10907</td>\n",
              "      <td>.</td>\n",
              "      <td>TA</td>\n",
              "      <td>T</td>\n",
              "      <td>.</td>\n",
              "      <td>.</td>\n",
              "      <td>{'AS_SB_TABLE': '212,550|8,18', 'DP': '823', '...</td>\n",
              "      <td>GT:AD:AF:DP:F1R2:F2R1:FAD:SB</td>\n",
              "      <td>0/0:386,11:0.028:397:115,3:130,3:288,8:115,271...</td>\n",
              "      <td>0/1:376,15:0.031:391:123,4:123,6:291,10:97,279...</td>\n",
              "    </tr>\n",
              "    <tr>\n",
              "      <th>2</th>\n",
              "      <td>CP046924.1</td>\n",
              "      <td>18400</td>\n",
              "      <td>.</td>\n",
              "      <td>G</td>\n",
              "      <td>A</td>\n",
              "      <td>.</td>\n",
              "      <td>.</td>\n",
              "      <td>{'AS_SB_TABLE': '420,544|91,94', 'DP': '1199',...</td>\n",
              "      <td>GT:AD:AF:DP:F1R2:F2R1:FAD:SB</td>\n",
              "      <td>0/0:642,0:1.809e-03:642:258,0:268,0:542,0:294,...</td>\n",
              "      <td>0/1:322,185:0.346:507:147,66:130,71:284,153:12...</td>\n",
              "    </tr>\n",
              "    <tr>\n",
              "      <th>3</th>\n",
              "      <td>CP046924.1</td>\n",
              "      <td>19142</td>\n",
              "      <td>.</td>\n",
              "      <td>A</td>\n",
              "      <td>G</td>\n",
              "      <td>.</td>\n",
              "      <td>.</td>\n",
              "      <td>{'AS_SB_TABLE': '578,673|3,6', 'DP': '1307', '...</td>\n",
              "      <td>GT:AD:AF:DP:F1R2:F2R1:FAD:SB</td>\n",
              "      <td>0/0:732,3:4.540e-03:735:250,0:238,2:596,2:345,...</td>\n",
              "      <td>0/1:519,6:0.013:525:189,1:167,4:430,5:233,286,2,4</td>\n",
              "    </tr>\n",
              "    <tr>\n",
              "      <th>4</th>\n",
              "      <td>CP046924.1</td>\n",
              "      <td>19349</td>\n",
              "      <td>.</td>\n",
              "      <td>A</td>\n",
              "      <td>G</td>\n",
              "      <td>.</td>\n",
              "      <td>.</td>\n",
              "      <td>{'AS_SB_TABLE': '695,529|18,24', 'DP': '1279',...</td>\n",
              "      <td>GT:AD:AF:DP:F1R2:F2R1:FAD:SB</td>\n",
              "      <td>0/0:733,5:8.119e-03:738:265,2:249,2:605,4:407,...</td>\n",
              "      <td>0/1:491,37:0.070:528:169,13:172,17:414,30:288,...</td>\n",
              "    </tr>\n",
              "    <tr>\n",
              "      <th>...</th>\n",
              "      <td>...</td>\n",
              "      <td>...</td>\n",
              "      <td>...</td>\n",
              "      <td>...</td>\n",
              "      <td>...</td>\n",
              "      <td>...</td>\n",
              "      <td>...</td>\n",
              "      <td>...</td>\n",
              "      <td>...</td>\n",
              "      <td>...</td>\n",
              "      <td>...</td>\n",
              "    </tr>\n",
              "    <tr>\n",
              "      <th>213</th>\n",
              "      <td>CP046924.1</td>\n",
              "      <td>1244642</td>\n",
              "      <td>.</td>\n",
              "      <td>G</td>\n",
              "      <td>A</td>\n",
              "      <td>.</td>\n",
              "      <td>.</td>\n",
              "      <td>{'AS_SB_TABLE': '819,342|13,14', 'DP': '1191',...</td>\n",
              "      <td>GT:AD:AF:DP:F1R2:F2R1:FAD:SB</td>\n",
              "      <td>0/0:628,10:0.012:638:242,1:235,4:497,5:442,186...</td>\n",
              "      <td>0/1:533,17:0.022:550:217,7:209,2:445,9:377,156...</td>\n",
              "    </tr>\n",
              "    <tr>\n",
              "      <th>214</th>\n",
              "      <td>CP046924.1</td>\n",
              "      <td>1244654</td>\n",
              "      <td>.</td>\n",
              "      <td>T</td>\n",
              "      <td>A</td>\n",
              "      <td>.</td>\n",
              "      <td>.</td>\n",
              "      <td>{'AS_SB_TABLE': '911,365|12,33', 'DP': '1346',...</td>\n",
              "      <td>GT:AD:AF:DP:F1R2:F2R1:FAD:PGT:PID:PS:SB</td>\n",
              "      <td>0|0:690,18:0.026:708:257,3:262,0:557,14:0|1:12...</td>\n",
              "      <td>0|1:586,27:0.041:613:226,6:231,3:491,20:0|1:12...</td>\n",
              "    </tr>\n",
              "    <tr>\n",
              "      <th>215</th>\n",
              "      <td>CP046924.1</td>\n",
              "      <td>1244656</td>\n",
              "      <td>.</td>\n",
              "      <td>T</td>\n",
              "      <td>C</td>\n",
              "      <td>.</td>\n",
              "      <td>.</td>\n",
              "      <td>{'AS_SB_TABLE': '922,394|12,33', 'DP': '1361',...</td>\n",
              "      <td>GT:AD:AF:DP:F1R2:F2R1:FAD:PGT:PID:PS:SB</td>\n",
              "      <td>0|0:715,18:0.026:733:260,3:257,1:562,14:0|1:12...</td>\n",
              "      <td>0|1:601,27:0.040:628:227,6:226,3:499,20:0|1:12...</td>\n",
              "    </tr>\n",
              "    <tr>\n",
              "      <th>216</th>\n",
              "      <td>CP046924.1</td>\n",
              "      <td>1244662</td>\n",
              "      <td>.</td>\n",
              "      <td>C</td>\n",
              "      <td>T</td>\n",
              "      <td>.</td>\n",
              "      <td>.</td>\n",
              "      <td>{'AS_SB_TABLE': '887,344|12,12', 'DP': '1284',...</td>\n",
              "      <td>GT:AD:AF:DP:F1R2:F2R1:FAD:PGT:PID:PS:SB</td>\n",
              "      <td>0|0:673,8:9.228e-03:681:249,3:254,1:535,4:0|1:...</td>\n",
              "      <td>0|1:558,16:0.021:574:228,6:224,3:473,9:0|1:124...</td>\n",
              "    </tr>\n",
              "    <tr>\n",
              "      <th>217</th>\n",
              "      <td>CP046924.1</td>\n",
              "      <td>1245708</td>\n",
              "      <td>.</td>\n",
              "      <td>GA</td>\n",
              "      <td>G</td>\n",
              "      <td>.</td>\n",
              "      <td>.</td>\n",
              "      <td>{'AS_SB_TABLE': '492,872|7,13', 'DP': '1468', ...</td>\n",
              "      <td>GT:AD:AF:DP:F1R2:F2R1:FAD:SB</td>\n",
              "      <td>0/0:711,10:0.014:721:260,3:272,4:599,8:250,461...</td>\n",
              "      <td>0/1:653,10:0.017:663:241,3:257,6:560,9:242,411...</td>\n",
              "    </tr>\n",
              "  </tbody>\n",
              "</table>\n",
              "<p>218 rows × 11 columns</p>\n",
              "</div>\n",
              "    <div class=\"colab-df-buttons\">\n",
              "\n",
              "  <div class=\"colab-df-container\">\n",
              "    <button class=\"colab-df-convert\" onclick=\"convertToInteractive('df-9b2c707b-7a84-4961-9729-b123483725b2')\"\n",
              "            title=\"Convert this dataframe to an interactive table.\"\n",
              "            style=\"display:none;\">\n",
              "\n",
              "  <svg xmlns=\"http://www.w3.org/2000/svg\" height=\"24px\" viewBox=\"0 -960 960 960\">\n",
              "    <path d=\"M120-120v-720h720v720H120Zm60-500h600v-160H180v160Zm220 220h160v-160H400v160Zm0 220h160v-160H400v160ZM180-400h160v-160H180v160Zm440 0h160v-160H620v160ZM180-180h160v-160H180v160Zm440 0h160v-160H620v160Z\"/>\n",
              "  </svg>\n",
              "    </button>\n",
              "\n",
              "  <style>\n",
              "    .colab-df-container {\n",
              "      display:flex;\n",
              "      gap: 12px;\n",
              "    }\n",
              "\n",
              "    .colab-df-convert {\n",
              "      background-color: #E8F0FE;\n",
              "      border: none;\n",
              "      border-radius: 50%;\n",
              "      cursor: pointer;\n",
              "      display: none;\n",
              "      fill: #1967D2;\n",
              "      height: 32px;\n",
              "      padding: 0 0 0 0;\n",
              "      width: 32px;\n",
              "    }\n",
              "\n",
              "    .colab-df-convert:hover {\n",
              "      background-color: #E2EBFA;\n",
              "      box-shadow: 0px 1px 2px rgba(60, 64, 67, 0.3), 0px 1px 3px 1px rgba(60, 64, 67, 0.15);\n",
              "      fill: #174EA6;\n",
              "    }\n",
              "\n",
              "    .colab-df-buttons div {\n",
              "      margin-bottom: 4px;\n",
              "    }\n",
              "\n",
              "    [theme=dark] .colab-df-convert {\n",
              "      background-color: #3B4455;\n",
              "      fill: #D2E3FC;\n",
              "    }\n",
              "\n",
              "    [theme=dark] .colab-df-convert:hover {\n",
              "      background-color: #434B5C;\n",
              "      box-shadow: 0px 1px 3px 1px rgba(0, 0, 0, 0.15);\n",
              "      filter: drop-shadow(0px 1px 2px rgba(0, 0, 0, 0.3));\n",
              "      fill: #FFFFFF;\n",
              "    }\n",
              "  </style>\n",
              "\n",
              "    <script>\n",
              "      const buttonEl =\n",
              "        document.querySelector('#df-9b2c707b-7a84-4961-9729-b123483725b2 button.colab-df-convert');\n",
              "      buttonEl.style.display =\n",
              "        google.colab.kernel.accessAllowed ? 'block' : 'none';\n",
              "\n",
              "      async function convertToInteractive(key) {\n",
              "        const element = document.querySelector('#df-9b2c707b-7a84-4961-9729-b123483725b2');\n",
              "        const dataTable =\n",
              "          await google.colab.kernel.invokeFunction('convertToInteractive',\n",
              "                                                    [key], {});\n",
              "        if (!dataTable) return;\n",
              "\n",
              "        const docLinkHtml = 'Like what you see? Visit the ' +\n",
              "          '<a target=\"_blank\" href=https://colab.research.google.com/notebooks/data_table.ipynb>data table notebook</a>'\n",
              "          + ' to learn more about interactive tables.';\n",
              "        element.innerHTML = '';\n",
              "        dataTable['output_type'] = 'display_data';\n",
              "        await google.colab.output.renderOutput(dataTable, element);\n",
              "        const docLink = document.createElement('div');\n",
              "        docLink.innerHTML = docLinkHtml;\n",
              "        element.appendChild(docLink);\n",
              "      }\n",
              "    </script>\n",
              "  </div>\n",
              "\n",
              "\n",
              "<div id=\"df-dd0a7aaf-d347-461b-9bcb-2af6b03a259b\">\n",
              "  <button class=\"colab-df-quickchart\" onclick=\"quickchart('df-dd0a7aaf-d347-461b-9bcb-2af6b03a259b')\"\n",
              "            title=\"Suggest charts.\"\n",
              "            style=\"display:none;\">\n",
              "\n",
              "<svg xmlns=\"http://www.w3.org/2000/svg\" height=\"24px\"viewBox=\"0 0 24 24\"\n",
              "     width=\"24px\">\n",
              "    <g>\n",
              "        <path d=\"M19 3H5c-1.1 0-2 .9-2 2v14c0 1.1.9 2 2 2h14c1.1 0 2-.9 2-2V5c0-1.1-.9-2-2-2zM9 17H7v-7h2v7zm4 0h-2V7h2v10zm4 0h-2v-4h2v4z\"/>\n",
              "    </g>\n",
              "</svg>\n",
              "  </button>\n",
              "\n",
              "<style>\n",
              "  .colab-df-quickchart {\n",
              "      --bg-color: #E8F0FE;\n",
              "      --fill-color: #1967D2;\n",
              "      --hover-bg-color: #E2EBFA;\n",
              "      --hover-fill-color: #174EA6;\n",
              "      --disabled-fill-color: #AAA;\n",
              "      --disabled-bg-color: #DDD;\n",
              "  }\n",
              "\n",
              "  [theme=dark] .colab-df-quickchart {\n",
              "      --bg-color: #3B4455;\n",
              "      --fill-color: #D2E3FC;\n",
              "      --hover-bg-color: #434B5C;\n",
              "      --hover-fill-color: #FFFFFF;\n",
              "      --disabled-bg-color: #3B4455;\n",
              "      --disabled-fill-color: #666;\n",
              "  }\n",
              "\n",
              "  .colab-df-quickchart {\n",
              "    background-color: var(--bg-color);\n",
              "    border: none;\n",
              "    border-radius: 50%;\n",
              "    cursor: pointer;\n",
              "    display: none;\n",
              "    fill: var(--fill-color);\n",
              "    height: 32px;\n",
              "    padding: 0;\n",
              "    width: 32px;\n",
              "  }\n",
              "\n",
              "  .colab-df-quickchart:hover {\n",
              "    background-color: var(--hover-bg-color);\n",
              "    box-shadow: 0 1px 2px rgba(60, 64, 67, 0.3), 0 1px 3px 1px rgba(60, 64, 67, 0.15);\n",
              "    fill: var(--button-hover-fill-color);\n",
              "  }\n",
              "\n",
              "  .colab-df-quickchart-complete:disabled,\n",
              "  .colab-df-quickchart-complete:disabled:hover {\n",
              "    background-color: var(--disabled-bg-color);\n",
              "    fill: var(--disabled-fill-color);\n",
              "    box-shadow: none;\n",
              "  }\n",
              "\n",
              "  .colab-df-spinner {\n",
              "    border: 2px solid var(--fill-color);\n",
              "    border-color: transparent;\n",
              "    border-bottom-color: var(--fill-color);\n",
              "    animation:\n",
              "      spin 1s steps(1) infinite;\n",
              "  }\n",
              "\n",
              "  @keyframes spin {\n",
              "    0% {\n",
              "      border-color: transparent;\n",
              "      border-bottom-color: var(--fill-color);\n",
              "      border-left-color: var(--fill-color);\n",
              "    }\n",
              "    20% {\n",
              "      border-color: transparent;\n",
              "      border-left-color: var(--fill-color);\n",
              "      border-top-color: var(--fill-color);\n",
              "    }\n",
              "    30% {\n",
              "      border-color: transparent;\n",
              "      border-left-color: var(--fill-color);\n",
              "      border-top-color: var(--fill-color);\n",
              "      border-right-color: var(--fill-color);\n",
              "    }\n",
              "    40% {\n",
              "      border-color: transparent;\n",
              "      border-right-color: var(--fill-color);\n",
              "      border-top-color: var(--fill-color);\n",
              "    }\n",
              "    60% {\n",
              "      border-color: transparent;\n",
              "      border-right-color: var(--fill-color);\n",
              "    }\n",
              "    80% {\n",
              "      border-color: transparent;\n",
              "      border-right-color: var(--fill-color);\n",
              "      border-bottom-color: var(--fill-color);\n",
              "    }\n",
              "    90% {\n",
              "      border-color: transparent;\n",
              "      border-bottom-color: var(--fill-color);\n",
              "    }\n",
              "  }\n",
              "</style>\n",
              "\n",
              "  <script>\n",
              "    async function quickchart(key) {\n",
              "      const quickchartButtonEl =\n",
              "        document.querySelector('#' + key + ' button');\n",
              "      quickchartButtonEl.disabled = true;  // To prevent multiple clicks.\n",
              "      quickchartButtonEl.classList.add('colab-df-spinner');\n",
              "      try {\n",
              "        const charts = await google.colab.kernel.invokeFunction(\n",
              "            'suggestCharts', [key], {});\n",
              "      } catch (error) {\n",
              "        console.error('Error during call to suggestCharts:', error);\n",
              "      }\n",
              "      quickchartButtonEl.classList.remove('colab-df-spinner');\n",
              "      quickchartButtonEl.classList.add('colab-df-quickchart-complete');\n",
              "    }\n",
              "    (() => {\n",
              "      let quickchartButtonEl =\n",
              "        document.querySelector('#df-dd0a7aaf-d347-461b-9bcb-2af6b03a259b button');\n",
              "      quickchartButtonEl.style.display =\n",
              "        google.colab.kernel.accessAllowed ? 'block' : 'none';\n",
              "    })();\n",
              "  </script>\n",
              "</div>\n",
              "    </div>\n",
              "  </div>\n"
            ]
          },
          "metadata": {},
          "execution_count": 348
        }
      ]
    },
    {
      "cell_type": "markdown",
      "source": [
        "### Confusion matrix"
      ],
      "metadata": {
        "id": "TUsKj45q3Vdu"
      }
    },
    {
      "cell_type": "code",
      "source": [
        "test_confusion_Illumina_Freebayes=confusion_matrix(vcf_df_Ill_F, vcf_df_GT, genome_size=504933) #504933 is total amplicons that were designed\n",
        "test_confusion_Illumina_Freebayes\n"
      ],
      "metadata": {
        "id": "qunC4Wzzc2gq",
        "colab": {
          "base_uri": "https://localhost:8080/"
        },
        "outputId": "38eaa8a4-b89f-4bcf-d833-af68f2b756af"
      },
      "execution_count": 349,
      "outputs": [
        {
          "output_type": "stream",
          "name": "stderr",
          "text": [
            "/usr/local/lib/python3.10/dist-packages/ipykernel/ipkernel.py:283: DeprecationWarning: `should_run_async` will not call `transform_cell` automatically in the future. Please pass the result to `transformed_cell` argument and any exception that happen during thetransform in `preprocessing_exc_tuple` in IPython 7.17 and above.\n",
            "  and should_run_async(code)\n"
          ]
        },
        {
          "output_type": "execute_result",
          "data": {
            "text/plain": [
              "array([[6.3000e+01, 1.0891e+04],\n",
              "       [2.0000e+01, 5.0485e+05]])"
            ]
          },
          "metadata": {},
          "execution_count": 349
        }
      ]
    },
    {
      "cell_type": "code",
      "source": [
        "test_confusion_Nanopore_Freebayes=confusion_matrix(vcf_df_Nan_F, vcf_df_GT, genome_size=504933) #504933 is total amplicons that were designed\n",
        "test_confusion_Nanopore_Freebayes\n"
      ],
      "metadata": {
        "id": "LzPbYjlE4v1P",
        "colab": {
          "base_uri": "https://localhost:8080/"
        },
        "outputId": "23df72e3-b04e-48cf-8753-c5a24a026a04"
      },
      "execution_count": 350,
      "outputs": [
        {
          "output_type": "stream",
          "name": "stderr",
          "text": [
            "/usr/local/lib/python3.10/dist-packages/ipykernel/ipkernel.py:283: DeprecationWarning: `should_run_async` will not call `transform_cell` automatically in the future. Please pass the result to `transformed_cell` argument and any exception that happen during thetransform in `preprocessing_exc_tuple` in IPython 7.17 and above.\n",
            "  and should_run_async(code)\n"
          ]
        },
        {
          "output_type": "execute_result",
          "data": {
            "text/plain": [
              "array([[1.9000e+01, 1.8144e+04],\n",
              "       [6.4000e+01, 5.0485e+05]])"
            ]
          },
          "metadata": {},
          "execution_count": 350
        }
      ]
    },
    {
      "cell_type": "code",
      "source": [
        "test_confusion_Illumina_Mutect_L1=confusion_matrix(vcf_df_Ill_M_L1, vcf_df_GT, genome_size=504933) #504933 is total amplicons that were designed\n",
        "#test_confusion_Illumina_Mutect_L1\n",
        "test_confusion_Illumina_Mutect_L2=confusion_matrix(vcf_df_Ill_M_L2, vcf_df_GT, genome_size=504933) #504933 is total amplicons that were designed\n",
        "#test_confusion_Illumina_Mutect_L2\n",
        "test_confusion_Nanopore_Mutect_b57=confusion_matrix(vcf_df_Nan_M_L57, vcf_df_GT, genome_size=504933) #504933 is total amplicons that were designed\n",
        "#test_confusion_Nanopore_Mutect_b57\n",
        "test_confusion_Nanopore_Mutect_b65=confusion_matrix(vcf_df_Nan_M_L65, vcf_df_GT, genome_size=504933) #504933 is total amplicons that were designed\n",
        "#test_confusion_Nanopore_Mutect_b65\n",
        "\n",
        "test_confusion_Illumina_Mutect_TN=confusion_matrix(vcf_df_Ill_M_TN, vcf_df_GT, genome_size=504933) #504933 is total amplicons that were designed\n",
        "test_confusion_Illumina_Mutect_TN\n",
        "\n",
        "test_confusion_Nanopore_Mutect_TN=confusion_matrix(vcf_df_Nan_M_TN, vcf_df_GT, genome_size=504933) #504933 is total amplicons that were designed\n",
        "#test_confusion_Nanopore_Mutect_TN\n",
        "\n",
        "#test_confusion_Illumina_Mutect_TN\n"
      ],
      "metadata": {
        "id": "kN-yEK1YOCZi",
        "colab": {
          "base_uri": "https://localhost:8080/"
        },
        "outputId": "0ce24318-2fcc-4b28-8e81-0636c2c5b304"
      },
      "execution_count": 352,
      "outputs": [
        {
          "output_type": "stream",
          "name": "stderr",
          "text": [
            "/usr/local/lib/python3.10/dist-packages/ipykernel/ipkernel.py:283: DeprecationWarning: `should_run_async` will not call `transform_cell` automatically in the future. Please pass the result to `transformed_cell` argument and any exception that happen during thetransform in `preprocessing_exc_tuple` in IPython 7.17 and above.\n",
            "  and should_run_async(code)\n"
          ]
        }
      ]
    },
    {
      "cell_type": "markdown",
      "source": [
        "### Plot confusion matrix"
      ],
      "metadata": {
        "id": "8gXplFDFe-8h"
      }
    },
    {
      "cell_type": "code",
      "source": [],
      "metadata": {
        "id": "2RccuHW_oKmE",
        "colab": {
          "base_uri": "https://localhost:8080/"
        },
        "outputId": "227d9ea7-3270-485e-9687-936b2b67786f"
      },
      "execution_count": 330,
      "outputs": [
        {
          "output_type": "stream",
          "name": "stderr",
          "text": [
            "/usr/local/lib/python3.10/dist-packages/ipykernel/ipkernel.py:283: DeprecationWarning: `should_run_async` will not call `transform_cell` automatically in the future. Please pass the result to `transformed_cell` argument and any exception that happen during thetransform in `preprocessing_exc_tuple` in IPython 7.17 and above.\n",
            "  and should_run_async(code)\n"
          ]
        }
      ]
    },
    {
      "cell_type": "code",
      "source": [
        "fig=plot_custom_confusion_matrix(test_confusion_Illumina_Freebayes, title=\"Confusion matrix Illumina Freebayes 0.0075\")\n",
        "\n",
        "fig\n"
      ],
      "metadata": {
        "id": "aSUS_GjGHMH3",
        "colab": {
          "base_uri": "https://localhost:8080/",
          "height": 561
        },
        "outputId": "1f40c472-34fe-49cd-eebc-38a292c06eba"
      },
      "execution_count": 331,
      "outputs": [
        {
          "output_type": "stream",
          "name": "stderr",
          "text": [
            "/usr/local/lib/python3.10/dist-packages/ipykernel/ipkernel.py:283: DeprecationWarning: `should_run_async` will not call `transform_cell` automatically in the future. Please pass the result to `transformed_cell` argument and any exception that happen during thetransform in `preprocessing_exc_tuple` in IPython 7.17 and above.\n",
            "  and should_run_async(code)\n"
          ]
        },
        {
          "output_type": "display_data",
          "data": {
            "text/plain": [
              "<Figure size 640x480 with 1 Axes>"
            ],
            "image/png": "[encoded data removed]"
          },
          "metadata": {}
        }
      ]
    },
    {
      "cell_type": "code",
      "source": [
        "fig=plot_custom_confusion_matrix(test_confusion_Nanopore_Freebayes, title=\"Confusion matrix Nanopore Freebayes 0.0075\")\n",
        "\n",
        "fig\n"
      ],
      "metadata": {
        "id": "Kfl6CZ3i5JAn",
        "colab": {
          "base_uri": "https://localhost:8080/",
          "height": 561
        },
        "outputId": "b2cad11e-a010-4741-efef-0c51c41d0830"
      },
      "execution_count": 332,
      "outputs": [
        {
          "output_type": "stream",
          "name": "stderr",
          "text": [
            "/usr/local/lib/python3.10/dist-packages/ipykernel/ipkernel.py:283: DeprecationWarning: `should_run_async` will not call `transform_cell` automatically in the future. Please pass the result to `transformed_cell` argument and any exception that happen during thetransform in `preprocessing_exc_tuple` in IPython 7.17 and above.\n",
            "  and should_run_async(code)\n"
          ]
        },
        {
          "output_type": "display_data",
          "data": {
            "text/plain": [
              "<Figure size 640x480 with 1 Axes>"
            ],
            "image/png": "[encoded data removed]"
          },
          "metadata": {}
        }
      ]
    },
    {
      "cell_type": "code",
      "source": [
        "fig=plot_custom_confusion_matrix(test_confusion_Illumina_Mutect_L1, title=\"Confusion matrix Illumina Mutect (Control)\")\n",
        "\n",
        "fig"
      ],
      "metadata": {
        "id": "SCsAHs7uO7yq",
        "colab": {
          "base_uri": "https://localhost:8080/",
          "height": 561
        },
        "outputId": "eb3644ec-f921-4b38-8ad7-31be56de529f"
      },
      "execution_count": 333,
      "outputs": [
        {
          "output_type": "stream",
          "name": "stderr",
          "text": [
            "/usr/local/lib/python3.10/dist-packages/ipykernel/ipkernel.py:283: DeprecationWarning: `should_run_async` will not call `transform_cell` automatically in the future. Please pass the result to `transformed_cell` argument and any exception that happen during thetransform in `preprocessing_exc_tuple` in IPython 7.17 and above.\n",
            "  and should_run_async(code)\n"
          ]
        },
        {
          "output_type": "display_data",
          "data": {
            "text/plain": [
              "<Figure size 640x480 with 1 Axes>"
            ],
            "image/png": "[encoded data removed]"
          },
          "metadata": {}
        }
      ]
    },
    {
      "cell_type": "code",
      "source": [
        "fig=plot_custom_confusion_matrix(test_confusion_Illumina_Mutect_L2, title=\"Confusion matrix Illumina Mutect (GT)\")\n",
        "\n",
        "fig"
      ],
      "metadata": {
        "id": "UjnsY4GiO78A",
        "colab": {
          "base_uri": "https://localhost:8080/",
          "height": 561
        },
        "outputId": "6430edec-b46d-4de8-8b24-6392128fb1eb"
      },
      "execution_count": 334,
      "outputs": [
        {
          "output_type": "stream",
          "name": "stderr",
          "text": [
            "/usr/local/lib/python3.10/dist-packages/ipykernel/ipkernel.py:283: DeprecationWarning: `should_run_async` will not call `transform_cell` automatically in the future. Please pass the result to `transformed_cell` argument and any exception that happen during thetransform in `preprocessing_exc_tuple` in IPython 7.17 and above.\n",
            "  and should_run_async(code)\n"
          ]
        },
        {
          "output_type": "display_data",
          "data": {
            "text/plain": [
              "<Figure size 640x480 with 1 Axes>"
            ],
            "image/png": "[encoded data removed]"
          },
          "metadata": {}
        }
      ]
    },
    {
      "cell_type": "code",
      "source": [
        "fig=plot_custom_confusion_matrix(test_confusion_Nanopore_Mutect_b57, title=\"Confusion matrix Nanopore Mutect (Control)\")\n",
        "\n",
        "fig"
      ],
      "metadata": {
        "id": "49MPliFIO8GS",
        "colab": {
          "base_uri": "https://localhost:8080/",
          "height": 561
        },
        "outputId": "d6082084-d1d0-411b-982e-cc9ff3067d7a"
      },
      "execution_count": 335,
      "outputs": [
        {
          "output_type": "stream",
          "name": "stderr",
          "text": [
            "/usr/local/lib/python3.10/dist-packages/ipykernel/ipkernel.py:283: DeprecationWarning: `should_run_async` will not call `transform_cell` automatically in the future. Please pass the result to `transformed_cell` argument and any exception that happen during thetransform in `preprocessing_exc_tuple` in IPython 7.17 and above.\n",
            "  and should_run_async(code)\n"
          ]
        },
        {
          "output_type": "display_data",
          "data": {
            "text/plain": [
              "<Figure size 640x480 with 1 Axes>"
            ],
            "image/png": "[encoded data removed]"
          },
          "metadata": {}
        }
      ]
    },
    {
      "cell_type": "code",
      "source": [
        "fig=plot_custom_confusion_matrix(test_confusion_Nanopore_Mutect_b65, title=\"Confusion matrix Nanopore Mutect (GT)\")\n",
        "\n",
        "fig"
      ],
      "metadata": {
        "id": "ROnJzL2jO8PS",
        "colab": {
          "base_uri": "https://localhost:8080/",
          "height": 561
        },
        "outputId": "339febce-2723-487b-af44-39c5d4df9a45"
      },
      "execution_count": 336,
      "outputs": [
        {
          "output_type": "stream",
          "name": "stderr",
          "text": [
            "/usr/local/lib/python3.10/dist-packages/ipykernel/ipkernel.py:283: DeprecationWarning: `should_run_async` will not call `transform_cell` automatically in the future. Please pass the result to `transformed_cell` argument and any exception that happen during thetransform in `preprocessing_exc_tuple` in IPython 7.17 and above.\n",
            "  and should_run_async(code)\n"
          ]
        },
        {
          "output_type": "display_data",
          "data": {
            "text/plain": [
              "<Figure size 640x480 with 1 Axes>"
            ],
            "image/png": "[encoded data removed]"
          },
          "metadata": {}
        }
      ]
    },
    {
      "cell_type": "code",
      "source": [
        "fig=plot_custom_confusion_matrix(test_confusion_Illumina_Mutect_TN, title=\"Confusion matrix Illumina Mutect (GT vs C)\")\n",
        "\n",
        "fig"
      ],
      "metadata": {
        "colab": {
          "base_uri": "https://localhost:8080/",
          "height": 561
        },
        "id": "RVyoggrFkSTw",
        "outputId": "a8e08850-48c2-4ccb-9493-ba7e1621e7da"
      },
      "execution_count": 353,
      "outputs": [
        {
          "output_type": "stream",
          "name": "stderr",
          "text": [
            "/usr/local/lib/python3.10/dist-packages/ipykernel/ipkernel.py:283: DeprecationWarning: `should_run_async` will not call `transform_cell` automatically in the future. Please pass the result to `transformed_cell` argument and any exception that happen during thetransform in `preprocessing_exc_tuple` in IPython 7.17 and above.\n",
            "  and should_run_async(code)\n"
          ]
        },
        {
          "output_type": "display_data",
          "data": {
            "text/plain": [
              "<Figure size 640x480 with 1 Axes>"
            ],
            "image/png": "[encoded data removed]"
          },
          "metadata": {}
        }
      ]
    },
    {
      "cell_type": "code",
      "source": [
        "fig=plot_custom_confusion_matrix(test_confusion_Nanopore_Mutect_TN, title=\"Confusion matrix Nanopore Mutect (GT vs C)\")\n",
        "\n",
        "fig"
      ],
      "metadata": {
        "colab": {
          "base_uri": "https://localhost:8080/",
          "height": 561
        },
        "id": "OCeCBkHckcVo",
        "outputId": "d7409c8e-a3be-459a-af56-17339ccbc7fd"
      },
      "execution_count": 354,
      "outputs": [
        {
          "output_type": "stream",
          "name": "stderr",
          "text": [
            "/usr/local/lib/python3.10/dist-packages/ipykernel/ipkernel.py:283: DeprecationWarning: `should_run_async` will not call `transform_cell` automatically in the future. Please pass the result to `transformed_cell` argument and any exception that happen during thetransform in `preprocessing_exc_tuple` in IPython 7.17 and above.\n",
            "  and should_run_async(code)\n"
          ]
        },
        {
          "output_type": "display_data",
          "data": {
            "text/plain": [
              "<Figure size 640x480 with 1 Axes>"
            ],
            "image/png": "[encoded data removed]"
          },
          "metadata": {}
        }
      ]
    },
    {
      "cell_type": "markdown",
      "source": [
        "### Metrics"
      ],
      "metadata": {
        "id": "UzIb7Vvb3bX5"
      }
    },
    {
      "cell_type": "code",
      "source": [
        "pr=metrics(test_confusion_Nanopore_Freebayes, \"recall\")\n",
        "pr"
      ],
      "metadata": {
        "id": "bIOD5B99nJsT"
      },
      "execution_count": null,
      "outputs": []
    },
    {
      "cell_type": "code",
      "source": [
        "pr_rec_acc_f1=metrics(test_confusion_Nanopore_Freebayes)\n",
        "pr_rec_acc_f1"
      ],
      "metadata": {
        "id": "Hq7ZrpCTT-D7"
      },
      "execution_count": null,
      "outputs": []
    },
    {
      "cell_type": "code",
      "source": [
        "pr_rec_acc_f1=metrics(test_confusion_Illumina_Freebayes)\n",
        "pr_rec_acc_f1"
      ],
      "metadata": {
        "id": "cluUO2mIUK0d"
      },
      "execution_count": null,
      "outputs": []
    },
    {
      "cell_type": "code",
      "source": [
        "pr_rec_acc_f1=metrics(test_confusion_Nanopore_Mutect_b65)\n",
        "pr_rec_acc_f1"
      ],
      "metadata": {
        "id": "LP_BZbidUboU"
      },
      "execution_count": null,
      "outputs": []
    },
    {
      "cell_type": "code",
      "source": [
        "pr_rec_acc_f1=metrics(test_confusion_Nanopore_Mutect_b57)\n",
        "pr_rec_acc_f1"
      ],
      "metadata": {
        "id": "5jnpXxtIUlGt"
      },
      "execution_count": null,
      "outputs": []
    },
    {
      "cell_type": "markdown",
      "source": [
        "True Positive Rate and False Positive Rate"
      ],
      "metadata": {
        "id": "hrZV-ITxv8by"
      }
    },
    {
      "cell_type": "code",
      "source": [
        "TPR_if,FPR_if =TPR_FPR(vcf_df_Ill_F, vcf_df_GT, genome_size=504933)\n",
        "TPR_if, FPR_if\n"
      ],
      "metadata": {
        "id": "yVaAgQHCPChO"
      },
      "execution_count": null,
      "outputs": []
    },
    {
      "cell_type": "code",
      "source": [
        "TPR_nf,FPR_nf =TPR_FPR(vcf_df_Nan_F, vcf_df_GT, genome_size=504933)\n",
        "TPR_nf, FPR_nf"
      ],
      "metadata": {
        "id": "u0dNrD_DAiDJ"
      },
      "execution_count": null,
      "outputs": []
    }
  ]
}